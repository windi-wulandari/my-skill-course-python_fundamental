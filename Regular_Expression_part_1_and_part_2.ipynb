{
  "nbformat": 4,
  "nbformat_minor": 0,
  "metadata": {
    "colab": {
      "provenance": [],
      "include_colab_link": true
    },
    "kernelspec": {
      "name": "python3",
      "display_name": "Python 3"
    },
    "language_info": {
      "name": "python"
    }
  },
  "cells": [
    {
      "cell_type": "markdown",
      "metadata": {
        "id": "view-in-github",
        "colab_type": "text"
      },
      "source": [
        "<a href=\"https://colab.research.google.com/github/windi-wulandari/my-skill-course-python/blob/main/Regular_Expression_part_1_and_part_2.ipynb\" target=\"_parent\"><img src=\"https://colab.research.google.com/assets/colab-badge.svg\" alt=\"Open In Colab\"/></a>"
      ]
    },
    {
      "cell_type": "markdown",
      "source": [
        "# What is Regular Expression"
      ],
      "metadata": {
        "id": "6L37QFRSJDIh"
      }
    },
    {
      "cell_type": "code",
      "execution_count": null,
      "metadata": {
        "colab": {
          "base_uri": "https://localhost:8080/"
        },
        "id": "yfABZBWbI-YR",
        "outputId": "bcd1f015-7fca-4870-aac0-f1987fa909c6"
      },
      "outputs": [
        {
          "output_type": "stream",
          "name": "stdout",
          "text": [
            "Start Index: 16\n",
            "End Index: 19\n",
            " ipk : 18\n",
            " ipk : 21\n",
            "index pertamanya: 18\n"
          ]
        }
      ],
      "source": [
        "import re\n",
        "\n",
        "s = 'MySkill: portal for any learning path'\n",
        "\n",
        " #match adalah tempat taro re search\n",
        " # ' ' kata yang ingin kita cari\n",
        " # tempat taro string\n",
        "match = re.search(r'for', s)\n",
        "\n",
        " # .start indeks awal pada string begitu end sebaliknya\n",
        "print('Start Index:', match.start())\n",
        "print('End Index:', match.end())\n",
        "\n",
        "\n",
        "Name = 'Aditya dengan ipk 350'\n",
        "\n",
        "match = re.search(r'\\d+',Name)\n",
        "print (' ipk :', match.start())\n",
        "print (' ipk :', match.end())\n",
        "\n",
        "A = 'Hari ini gw ingin ke perpusnas'\n",
        "\n",
        "match = re.search(r'ke',A)\n",
        "print ('index pertamanya:',match.start())"
      ]
    },
    {
      "cell_type": "code",
      "source": [
        "# Percobaan\n",
        "import re\n",
        "coba = 'Hallo nama saya winardi, Nomor rumah saya adalah 63'\n",
        "match = re.search(r'\\d+', coba)\n",
        "print ('index nomor pertama:', match.start())\n",
        "print ('index nomor terakhir:', match.end())\n",
        "\n",
        "trial = \"saya lahir pada 10 April 1997\"\n",
        "match = re.search (r'\\d+', trial)\n",
        "print ('index tanggal pertama:', match.start())\n",
        "match = re.search(r'lahir', trial)\n",
        "print ('index perama :', match.start())\n",
        "print (\"index terakhir :\", match.end())\n",
        "\n",
        "r = \"(\\d+)\"\n",
        "match = re.findall(r, trial)\n",
        "print (match)\n"
      ],
      "metadata": {
        "colab": {
          "base_uri": "https://localhost:8080/"
        },
        "id": "YnsSRxUSVRNp",
        "outputId": "dd51b551-6781-48ca-a96d-fbd18de62616"
      },
      "execution_count": null,
      "outputs": [
        {
          "output_type": "stream",
          "name": "stdout",
          "text": [
            "index nomor pertama: 49\n",
            "index nomor terakhir: 51\n",
            "index tanggal pertama: 16\n",
            "index perama : 5\n",
            "index terakhir : 10\n",
            "['10', '1997']\n"
          ]
        }
      ]
    },
    {
      "cell_type": "markdown",
      "source": [
        "# Metacharacter"
      ],
      "metadata": {
        "id": "O7M8-KgJOa6M"
      }
    },
    {
      "cell_type": "markdown",
      "source": [
        "## Example metacharacter"
      ],
      "metadata": {
        "id": "nyACJF_-OdD5"
      }
    },
    {
      "cell_type": "code",
      "source": [
        "import re\n",
        "\n",
        "s = 'Adgan167@gmail.com'\n",
        "\n",
        "# without using \\\n",
        "match = re.search(r'.', s)\n",
        "print(match)\n",
        "\n",
        "# using \\\n",
        "match = re.search(r'\\.', s)\n",
        "print(match)"
      ],
      "metadata": {
        "colab": {
          "base_uri": "https://localhost:8080/"
        },
        "id": "VkYL85KxJFO4",
        "outputId": "800aa36f-54fe-4ec4-834a-d1804c7ced9e"
      },
      "execution_count": null,
      "outputs": [
        {
          "output_type": "stream",
          "name": "stdout",
          "text": [
            "<re.Match object; span=(0, 1), match='A'>\n",
            "<re.Match object; span=(14, 15), match='.'>\n"
          ]
        }
      ]
    },
    {
      "cell_type": "markdown",
      "source": [
        "# Module Regex - re library"
      ],
      "metadata": {
        "id": "jStYGwJvWgEl"
      }
    },
    {
      "cell_type": "markdown",
      "source": [
        "## re.findall()"
      ],
      "metadata": {
        "id": "Opb1ORxrXthd"
      }
    },
    {
      "cell_type": "code",
      "source": [
        "import re\n",
        "\n",
        "# A sample text string where regular expression\n",
        "# is searched.\n",
        "string = \"\"\"Hello my student id is 923472387 and\n",
        "            my friend's number student id Is 234130324\n",
        "            no telp aditya 082298221785\"\"\"\n",
        "\n",
        "# A sample regular expression to find digits.\n",
        "regex =  \"(\\d+)\"\n",
        "\n",
        "match = re.findall(regex, string)\n",
        "print(match)"
      ],
      "metadata": {
        "colab": {
          "base_uri": "https://localhost:8080/"
        },
        "id": "0QStCq8PWf2I",
        "outputId": "72e9f0d6-25f7-4dfe-a300-9a8a42f3b723"
      },
      "execution_count": null,
      "outputs": [
        {
          "output_type": "stream",
          "name": "stdout",
          "text": [
            "['923472387', '234130324', '082298221785']\n"
          ]
        }
      ]
    },
    {
      "cell_type": "markdown",
      "source": [
        "## re.compile()"
      ],
      "metadata": {
        "id": "YUTc-KGAXv-M"
      }
    },
    {
      "cell_type": "code",
      "source": [
        "# Example 1\n",
        "import re\n",
        "\n",
        "# compile() creates regular expression\n",
        "# character class [a-e],\n",
        "# which is equivalent to [abcde].\n",
        "# class [abcde] will match with string with\n",
        "# 'a', 'b', 'c', 'd', 'e'.\n",
        "p = re.compile('[a-e]', flags=re.IGNORECASE)\n",
        "\n",
        "# findall() searches for the Regular Expression\n",
        "# and return a list upon finding\n",
        "print(p.findall(\"Aditya pramana putra\"))"
      ],
      "metadata": {
        "colab": {
          "base_uri": "https://localhost:8080/"
        },
        "id": "dCMp1TUJOmwz",
        "outputId": "b041e2d6-7c63-4eed-998e-6b087cba782e"
      },
      "execution_count": null,
      "outputs": [
        {
          "output_type": "stream",
          "name": "stdout",
          "text": [
            "['A', 'd', 'a', 'a', 'a', 'a', 'a']\n"
          ]
        }
      ]
    },
    {
      "cell_type": "code",
      "source": [
        "# Example 2\n",
        "import re\n",
        "\n",
        "# \\d is equivalent to [0-9].\n",
        "p = re.compile('\\d')\n",
        "print(p.findall(\"I went to him at 11 A.M. on 4th July 1886\"))\n",
        "\n",
        "# \\d+ will match a group on [0-9], group\n",
        "# of one or greater size\n",
        "p = re.compile('\\d+')\n",
        "print(p.findall(\"I went to him at 11 A.M. on 4th July 1886\"))"
      ],
      "metadata": {
        "colab": {
          "base_uri": "https://localhost:8080/"
        },
        "id": "C0XkS8gvYDwo",
        "outputId": "859e4bad-73d0-4e37-9e60-684a99f7b639"
      },
      "execution_count": null,
      "outputs": [
        {
          "output_type": "stream",
          "name": "stdout",
          "text": [
            "['1', '1', '4', '1', '8', '8', '6']\n",
            "['11', '4', '1886']\n"
          ]
        }
      ]
    },
    {
      "cell_type": "markdown",
      "source": [
        "## re.split()"
      ],
      "metadata": {
        "id": "Di4I7hv4aA3x"
      }
    },
    {
      "cell_type": "markdown",
      "source": [
        "re.split(pattern, string, maxsplit=0, flags=0)"
      ],
      "metadata": {
        "id": "GUH2mbQQaL0d"
      }
    },
    {
      "cell_type": "markdown",
      "source": [
        "Parameter Pertama, pola menunjukkan ekspresi reguler, string adalah string yang diberikan di mana pola akan dicari dan di mana pemisahan terjadi, maxsplit jika tidak diberikan dianggap nol '0', dan jika ada nilai bukan nol yang diberikan, maka paling banyak terjadi perpecahan. Jika maxsplit = 1, maka string akan terbelah sekali saja, menghasilkan daftar panjang 2. Bendera sangat berguna dan dapat membantu untuk mempersingkat kode, mereka bukan parameter yang diperlukan, misalnya: flags = re.IGNORECASE, dalam pemisahan ini , kasus, yaitu huruf kecil atau huruf besar akan diabaikan."
      ],
      "metadata": {
        "id": "LxgbrayoaD4g"
      }
    },
    {
      "cell_type": "markdown",
      "source": [
        "pisahkan string dengan kemunculan karakter atau pola, setelah menemukan pola itu, karakter yang tersisa dari string dikembalikan sebagai bagian dari daftar yang dihasilkan.\n",
        "\n",
        "re.split(pattern,string,maxsplit=0,flags=0\n",
        "\n",
        "1. Paramater pertama, pila menunjukan ekspresi reguler, string adalah string yang diberikan dimana pola akan dicari dan dimana pemisahan terjadi.\n",
        "2. maxsplit jika tidak diberikan dianggap nol '0' dan jika ada nilai bukan nol yang diberikan, maka paling banyak terjadi perpecahan.\n",
        "3. jika maxsplit =1, maka string akan terbelah sekali saja, menghasilkan daftar panjang 2. Bendera sangat berguna dan dapat membantu untuk mempersingkat kode, mereka buka parameter yang diperlukan, misalnya: flags = re.IGONORCASE, dalam pemisahan ini, kasus, yaitu huruf kecil atau huruf besar diabaikan.\n",
        "'\\w+': whitespaces"
      ],
      "metadata": {
        "id": "AK-m6DPmcq2R"
      }
    },
    {
      "cell_type": "code",
      "source": [
        "# Example 1\n",
        "from re import split\n",
        "\n",
        "# '\\W+' denotes Non-Alphanumeric Characters\n",
        "# or group of characters Upon finding ','\n",
        "# or whitespace ' ', the split(), splits the\n",
        "# string from that point\n",
        "print(split('\\W+', 'Words, words , Words'))\n",
        "print(split('\\W+', \"Word's words Words\"))\n",
        "\n",
        "# Here ':', ' ' ,',' are not AlphaNumeric thus,\n",
        "# the point where splitting occurs\n",
        "print(split('\\W+', 'On 12th Jan 2016, at 11:02 AM'))\n",
        "\n",
        "# '\\d+' denotes Numeric Characters or group of\n",
        "# characters Splitting occurs at '12', '2016',\n",
        "# '11', '02' only\n",
        "print(split('\\d+', 'On 12th Jan 2016, at 11:02 AM'))"
      ],
      "metadata": {
        "colab": {
          "base_uri": "https://localhost:8080/"
        },
        "id": "Fhc5_IcMZABn",
        "outputId": "ffb35941-ef5d-483c-9757-ea5d60bbb61b"
      },
      "execution_count": null,
      "outputs": [
        {
          "output_type": "stream",
          "name": "stdout",
          "text": [
            "['Words', 'words', 'Words']\n",
            "['Word', 's', 'words', 'Words']\n",
            "['On', '12th', 'Jan', '2016', 'at', '11', '02', 'AM']\n",
            "['On ', 'th Jan ', ', at ', ':', ' AM']\n"
          ]
        }
      ]
    },
    {
      "cell_type": "code",
      "source": [
        "# Example 2\n",
        "\n",
        "import re\n",
        "\n",
        "# Splitting will occurs only once, at\n",
        "# '12', returned list will have length 2\n",
        "print(re.split('\\d+','On 12th Jan 2016, at 11:02 AM',1))\n",
        "print(re.split('\\d+','On 12th Jan 2016, at 11:02 AM'))\n",
        "#angka di ganti dengan split yang ingin kita tentukan dalam parameter\n",
        "\n",
        "# 'Boy' and 'boy' will be treated same when\n",
        "# flags = re.IGNORECASE\n",
        "print(re.split('[a-f]+', 'Aey, Boy oh boy, come here', flags=re.IGNORECASE))\n",
        "print(re.split('[a-f]+', 'Aey, Boy oh boy, come here'))"
      ],
      "metadata": {
        "colab": {
          "base_uri": "https://localhost:8080/"
        },
        "id": "M6UwurJHaTH7",
        "outputId": "8b697f91-79fd-4430-e676-d8d41c223397"
      },
      "execution_count": null,
      "outputs": [
        {
          "output_type": "stream",
          "name": "stdout",
          "text": [
            "['On ', 'th Jan 2016, at 11:02 AM']\n",
            "['On ', 'th Jan ', ', at ', ':', ' AM']\n",
            "['', 'y, ', 'oy oh ', 'oy, ', 'om', ' h', 'r', '']\n",
            "['A', 'y, Boy oh ', 'oy, ', 'om', ' h', 'r', '']\n"
          ]
        }
      ]
    },
    {
      "cell_type": "markdown",
      "source": [
        "## re.sub()"
      ],
      "metadata": {
        "id": "26XUQBoYanqU"
      }
    },
    {
      "cell_type": "markdown",
      "source": [
        "re.sub(pattern, repl, string, count=0, flags=0)"
      ],
      "metadata": {
        "id": "swvFj2Ehapxl"
      }
    },
    {
      "cell_type": "code",
      "source": [
        "import re\n",
        "\n",
        "# Regular Expression pattern 'ub' matches the\n",
        "# string at \"Subject\" and \"Uber\". As the CASE\n",
        "# has been ignored, using Flag, 'ub' should\n",
        "# match twice with the string Upon matching,\n",
        "# 'ub' is replaced by '~*' in \"Subject\", and\n",
        "# in \"Uber\", 'Ub' is replaced.\n",
        "print(re.sub('ub', '~*', 'Subject has Uber booked already',\n",
        "             flags=re.IGNORECASE))\n",
        "\n",
        "# Consider the Case Sensitivity, 'Ub' in\n",
        "# \"Uber\", will not be replaced.\n",
        "print(re.sub('ub', '~*', 'Subject has Uber booked already'))\n",
        "\n",
        "# As count has been given value 1, the maximum\n",
        "# times replacement occurs is 1\n",
        "print(re.sub('ub', '~*', 'Subject has Uber booked already',\n",
        "             count=1, flags=re.IGNORECASE))\n",
        "\n",
        "# 'r' before the pattern denotes RE, \\s is for\n",
        "# start and end of a String.\n",
        "print(re.sub('\\sAND\\s', ' & ', 'Baked Beans And Spam',\n",
        "             flags=re.IGNORECASE))\n",
        "\n",
        "print(re.sub('ti','ty','Aditia adiTia pramana putra',count = 1,flags = re.IGNORECASE))\n",
        "print(re.sub(r'ti','ty','Aditia adiTia pramana putra',flags = re.IGNORECASE))\n",
        "print(re.sub(r'ti','ty','Aditia adiTia pramana putra'))"
      ],
      "metadata": {
        "colab": {
          "base_uri": "https://localhost:8080/"
        },
        "id": "ygFLRv29aZax",
        "outputId": "77c54989-2a11-4c76-9142-13580f3a15b8"
      },
      "execution_count": null,
      "outputs": [
        {
          "output_type": "stream",
          "name": "stdout",
          "text": [
            "S~*ject has ~*er booked already\n",
            "S~*ject has Uber booked already\n",
            "S~*ject has Uber booked already\n",
            "Baked Beans & Spam\n",
            "Aditya adiTia pramana putra\n",
            "Aditya aditya pramana putra\n",
            "Aditya adiTia pramana putra\n"
          ]
        }
      ]
    },
    {
      "cell_type": "markdown",
      "source": [
        "## re.subn()"
      ],
      "metadata": {
        "id": "8gsEAJdabfPQ"
      }
    },
    {
      "cell_type": "markdown",
      "source": [
        "re.subn(pattern, repl, string, count=0, flags=0)"
      ],
      "metadata": {
        "id": "gFJYVaIAbg0U"
      }
    },
    {
      "cell_type": "code",
      "source": [
        "import re\n",
        "\n",
        "print(re.subn('ub', '~*', 'Subject has Uber booked already'))\n",
        "\n",
        "t = re.subn('ub', '~*', 'Subject has Uber booked already',\n",
        "            flags=re.IGNORECASE)\n",
        "print(t)\n",
        "print(len(t))\n",
        "\n",
        "# This will give same output as sub() would have\n",
        "print(t[0])"
      ],
      "metadata": {
        "colab": {
          "base_uri": "https://localhost:8080/"
        },
        "id": "bAIyuZjrayVq",
        "outputId": "1c03f22e-df5c-4b91-cc93-a9dd697255da"
      },
      "execution_count": null,
      "outputs": [
        {
          "output_type": "stream",
          "name": "stdout",
          "text": [
            "('S~*ject has Uber booked already', 1)\n",
            "('S~*ject has ~*er booked already', 2)\n",
            "2\n",
            "S~*ject has ~*er booked already\n"
          ]
        }
      ]
    },
    {
      "cell_type": "markdown",
      "source": [
        "## re.escape()"
      ],
      "metadata": {
        "id": "CWXq4MLLb_Sb"
      }
    },
    {
      "cell_type": "markdown",
      "source": [
        "re.escape(string)\n",
        "\n",
        "> Indented block\n",
        "\n"
      ],
      "metadata": {
        "id": "9-K8txogcCni"
      }
    },
    {
      "cell_type": "code",
      "source": [
        "\n",
        "import re\n",
        "\n",
        "# escape() returns a string with BackSlash '\\',\n",
        "# before every Non-Alphanumeric Character\n",
        "# In 1st case only ' ', is not alphanumeric\n",
        "# In 2nd case, ' ', caret '^', '-', '[]', '\\'\n",
        "# are not alphanumeric\n",
        "print(re.escape(\"This is Awesome even 1 AM\"))\n",
        "print(re.escape(\"I Asked what is this [a-9], he said \\t ^WoW\"))"
      ],
      "metadata": {
        "colab": {
          "base_uri": "https://localhost:8080/"
        },
        "id": "-YVB46aUbjps",
        "outputId": "aca1cdca-cf69-4dfe-96df-bc3f7db4b20e"
      },
      "execution_count": null,
      "outputs": [
        {
          "output_type": "stream",
          "name": "stdout",
          "text": [
            "This\\ is\\ Awesome\\ even\\ 1\\ AM\n",
            "I\\ Asked\\ what\\ is\\ this\\ \\[a\\-9\\],\\ he\\ said\\ \\\t\\ \\^WoW\n"
          ]
        }
      ]
    },
    {
      "cell_type": "markdown",
      "source": [
        "## re.search()"
      ],
      "metadata": {
        "id": "0arHJutNcM86"
      }
    },
    {
      "cell_type": "code",
      "source": [
        "# A Python program to demonstrate working of re.match().\n",
        "import re\n",
        "\n",
        "# Lets use a regular expression to match a date string\n",
        "# in the form of Month name followed by day number\n",
        "regex = r\"([a-zA-Z]+) (\\d+)\"\n",
        "\n",
        "match = re.search(regex, \"I was Born on June 24\")\n",
        "\n",
        "if match != None:\n",
        "\n",
        "    # We reach here when the expression \"([a-zA-Z]+) (\\d+)\"\n",
        "    # matches the date string.\n",
        "\n",
        "    # This will print [14, 21), since it matches at index 14\n",
        "    # and ends at 21.\n",
        "    print (\"Match at index %s, %s\" % (match.start(), match.end()))\n",
        "\n",
        "    # We us group() method to get all the matches and\n",
        "    # captured groups. The groups contain the matched values.\n",
        "    # In particular:\n",
        "    # match.group(0) always returns the fully matched string\n",
        "    # match.group(1) match.group(2), ... return the capture\n",
        "    # groups in order from left to right in the input string\n",
        "    # match.group() is equivalent to match.group(0)\n",
        "\n",
        "    # So this will print \"June 24\"\n",
        "    print (\"Full match: %s\" % (match.group(0)))\n",
        "\n",
        "    # So this will print \"June\"\n",
        "    print (\"Month: %s\" % (match.group(1)))\n",
        "\n",
        "    # So this will print \"24\"\n",
        "    print (\"Day: %s\" % (match.group(2)))\n",
        "\n",
        "else:\n",
        "    print (\"The regex pattern does not match.\")"
      ],
      "metadata": {
        "colab": {
          "base_uri": "https://localhost:8080/"
        },
        "id": "zTiUMp-ocFY-",
        "outputId": "af7dc8b5-17ea-4fe1-c89a-2a191e96c4c1"
      },
      "execution_count": null,
      "outputs": [
        {
          "output_type": "stream",
          "name": "stdout",
          "text": [
            "Match at index 14, 21\n",
            "Full match: June 24\n",
            "Month: June\n",
            "Day: 24\n"
          ]
        }
      ]
    },
    {
      "cell_type": "markdown",
      "source": [
        "# Match Object"
      ],
      "metadata": {
        "id": "XyCfLKdmcms8"
      }
    },
    {
      "cell_type": "code",
      "source": [
        "import re\n",
        "\n",
        "s = \"Greeting to MYSKILL PORTAL\"\n",
        "\n",
        "# here x is the match object\n",
        "res = re.search(r\"\\bG\", s)\n",
        "\n",
        "print(res.re)\n",
        "print(res.string)\n",
        "print(res.start())\n",
        "print(res.end())\n",
        "print(res.span())\n",
        "\n",
        "a= 'Gw kece dari lahir\\naditya pramana Putra'\n",
        "\n",
        "res = re.search(r\"\\bP\", a)\n",
        "\n",
        "print(res.re)\n",
        "print(res.string)\n",
        "print(res.start())\n",
        "print(res.end())\n",
        "print(res.span())"
      ],
      "metadata": {
        "colab": {
          "base_uri": "https://localhost:8080/"
        },
        "id": "TjLUx9RdcR8a",
        "outputId": "7ae9529e-26a7-4b3d-e8e3-c02a11c1a8b0"
      },
      "execution_count": null,
      "outputs": [
        {
          "output_type": "stream",
          "name": "stdout",
          "text": [
            "re.compile('\\\\bG')\n",
            "Greeting to MYSKILL PORTAL\n",
            "0\n",
            "1\n",
            "(0, 1)\n",
            "re.compile('\\\\bP')\n",
            "Gw kece dari lahir\n",
            "aditya pramana Putra\n",
            "34\n",
            "35\n",
            "(34, 35)\n"
          ]
        }
      ]
    },
    {
      "cell_type": "code",
      "source": [
        "import re\n",
        "\n",
        "s = \"Welcome to SeedsLand\"\n",
        "\n",
        "# here x is the match object\n",
        "res = re.search(r\"\\bSee\", s)\n",
        "\n",
        "print(res.re)\n",
        "print(res.string)\n",
        "print(res.start())\n",
        "print(res.end())\n",
        "print(res.span())"
      ],
      "metadata": {
        "colab": {
          "base_uri": "https://localhost:8080/"
        },
        "id": "W0RgG7hqdEFK",
        "outputId": "117bacce-4c50-4362-d75d-1d406c3201dc"
      },
      "execution_count": null,
      "outputs": [
        {
          "output_type": "stream",
          "name": "stdout",
          "text": [
            "re.compile('\\\\bSee')\n",
            "Welcome to SeedsLand\n",
            "11\n",
            "14\n",
            "(11, 14)\n"
          ]
        }
      ]
    },
    {
      "cell_type": "code",
      "source": [
        "import re\n",
        "\n",
        "s = \"Welcome to MySkill\"\n",
        "\n",
        "# here x is the match object\n",
        "res = re.search(r\"\\D{3} t\", s)\n",
        "\n",
        "print(res.group())\n",
        "\n",
        "d = \"Welco1me to MySkill\"\n",
        "\n",
        "# here x is the match object\n",
        "res = re.search(r\"\\w{3} t\", d)\n",
        "\n",
        "print(res.group())"
      ],
      "metadata": {
        "colab": {
          "base_uri": "https://localhost:8080/"
        },
        "id": "IHTWZLJxdv3f",
        "outputId": "0d77c261-59f1-4e84-8a20-199fd74e9708"
      },
      "execution_count": null,
      "outputs": [
        {
          "output_type": "stream",
          "name": "stdout",
          "text": [
            "ome t\n",
            "1me t\n"
          ]
        }
      ]
    },
    {
      "cell_type": "markdown",
      "source": [
        "# Regex : Search, Match Find All"
      ],
      "metadata": {
        "id": "eDsx7qXDi3KW"
      }
    },
    {
      "cell_type": "code",
      "source": [
        "# A Python program to demonstrate working of re.match().\n",
        "import re\n",
        "\n",
        "# Lets use a regular expression to match a date string\n",
        "# in the form of Month name followed by day number\n",
        "regex = r\"([a-zA-Z]+) (\\d+)\"\n",
        "\n",
        "match = re.search(regex, \"I was born on June 24\")\n",
        "\n",
        "if match != None:\n",
        "\n",
        "\t# We reach here when the expression \"([a-zA-Z]+) (\\d+)\"\n",
        "\t# matches the date string.\n",
        "\n",
        "\t# This will print [14, 21), since it matches at index 14\n",
        "\t# and ends at 21.\n",
        "\tprint (\"Match at index %s, %s\" % (match.start(), match.end()))\n",
        "\n",
        "\t# We us group() method to get all the matches and\n",
        "\t# captured groups. The groups contain the matched values.\n",
        "\t# In particular:\n",
        "\t# match.group(0) always returns the fully matched string\n",
        "\t# match.group(1) match.group(2), ... return the capture\n",
        "\t# groups in order from left to right in the input string\n",
        "\t# match.group() is equivalent to match.group(0)\n",
        "\n",
        "\t# So this will print \"June 24\"\n",
        "\tprint (\"Full match: %s\" % (match.group(0)))\n",
        "\n",
        "\t# So this will print \"June\"\n",
        "\tprint (\"Month: %s\" % (match.group(1)))\n",
        "\n",
        "\t# So this will print \"24\"\n",
        "\tprint (\"Day: %s\" % (match.group(2)))\n",
        "\n",
        "else:\n",
        "\tprint (\"The regex pattern does not match.\")\n"
      ],
      "metadata": {
        "colab": {
          "base_uri": "https://localhost:8080/"
        },
        "id": "gUC5yd9pd8qG",
        "outputId": "b5edd439-5938-45bd-f0d4-493b71e4d244"
      },
      "execution_count": null,
      "outputs": [
        {
          "output_type": "stream",
          "name": "stdout",
          "text": [
            "Match at index 14, 21\n",
            "Full match: June 24\n",
            "Month: June\n",
            "Day: 24\n"
          ]
        }
      ]
    },
    {
      "cell_type": "markdown",
      "source": [
        "## Matching pattern with text"
      ],
      "metadata": {
        "id": "1HgcKLCUk7IW"
      }
    },
    {
      "cell_type": "code",
      "source": [
        "# A Python program to demonstrate working\n",
        "# of re.match().\n",
        "import re\n",
        "\n",
        "# a sample function that uses regular expressions\n",
        "# to find month and day of a date.\n",
        "def findMonthAndDate(string):\n",
        "\n",
        "\tregex = r\"([a-zA-Z]+) (\\d+)\"\n",
        "\tmatch = re.match(regex, string)\n",
        "\n",
        "\tif match == None:\n",
        "\t\tprint (\"Not a valid date\")\n",
        "\t\treturn\n",
        "\n",
        "\tprint (\"Given Data: %s\" % (match.group()))\n",
        "\tprint (\"Month: %s\" % (match.group(1)))\n",
        "\tprint (\"Day: %s\" % (match.group(2)))\n",
        "\n",
        "\n",
        "# Driver Code\n",
        "findMonthAndDate(\"April 24\")\n",
        "print(\"\")\n",
        "findMonthAndDate(\"June 24\")\n",
        "print(\"\")\n",
        "findMonthAndDate(\"a Desember 24\")"
      ],
      "metadata": {
        "colab": {
          "base_uri": "https://localhost:8080/"
        },
        "id": "tLxJ8iP7jGR6",
        "outputId": "7bdfc0c3-d6ab-46f6-8b40-a4c7acb8761b"
      },
      "execution_count": null,
      "outputs": [
        {
          "output_type": "stream",
          "name": "stdout",
          "text": [
            "Given Data: April 24\n",
            "Month: April\n",
            "Day: 24\n",
            "\n",
            "Given Data: June 24\n",
            "Month: June\n",
            "Day: 24\n",
            "\n",
            "Not a valid date\n"
          ]
        }
      ]
    },
    {
      "cell_type": "markdown",
      "source": [
        "## Find all occurence in pattern"
      ],
      "metadata": {
        "id": "ot8H6djhlf-G"
      }
    },
    {
      "cell_type": "code",
      "source": [
        "# A Python program to demonstrate working of\n",
        "# findall()\n",
        "import re\n",
        "\n",
        "# A sample text string where regular expression\n",
        "# is searched.\n",
        "string = \"\"\"Hello my Number is 123456789 and\n",
        "            my friend's number is 987654321\"\"\"\n",
        "\n",
        "# A sample regular expression to find digits.\n",
        "regex = '\\d+'\n",
        "\n",
        "match = re.search(regex, string)\n",
        "print(match)"
      ],
      "metadata": {
        "colab": {
          "base_uri": "https://localhost:8080/"
        },
        "id": "cDpdwqNPlCGG",
        "outputId": "0dbe6989-c90e-48c0-f288-7a717078763a"
      },
      "execution_count": null,
      "outputs": [
        {
          "output_type": "stream",
          "name": "stdout",
          "text": [
            "['123456789', '987654321']\n"
          ]
        }
      ]
    },
    {
      "cell_type": "markdown",
      "source": [
        "## re.VERBOSE"
      ],
      "metadata": {
        "id": "XCAsGl-Wnhwq"
      }
    },
    {
      "cell_type": "code",
      "source": [
        "# Without Using VERBOSE\n",
        "regex_email = re.compile(r'^([a-z0-9_\\.-]+)@([0-9a-z\\.-]+)\\.([a-z\\.]{2, 6})$',\n",
        "\t\t\tre.IGNORECASE)\n",
        "\n",
        "# Using VERBOSE\n",
        "regex_email = re.compile(r\"\"\"\n",
        "\t\t\t^([a-z0-9_\\.-]+)\t\t\t # local Part\n",
        "\t\t\t@\t\t\t\t\t\t\t # single @ sign\n",
        "\t\t\t([0-9a-z\\.-]+)\t\t\t # Domain name\n",
        "\t\t\t\\.\t\t\t\t\t\t # single Dot .\n",
        "\t\t\t([a-z]{2,6})$\t\t\t\t # Top level Domain\n",
        "\t\t\t\"\"\",re.VERBOSE | re.IGNORECASE)"
      ],
      "metadata": {
        "id": "hsbH1AvxlmhX"
      },
      "execution_count": null,
      "outputs": []
    },
    {
      "cell_type": "markdown",
      "source": [
        "Ini diteruskan sebagai argumen ke re.compile() yaitu re.compile(Regular Expression, re.VERBOSE). re.compile() mengembalikan RegexObject yang kemudian dicocokkan dengan string yang diberikan.\n",
        "\n",
        "Mari kita pertimbangkan contoh di mana pengguna diminta untuk memasukkan ID Email mereka dan kita harus memvalidasinya menggunakan RegEx. Format email adalah sebagai berikut:"
      ],
      "metadata": {
        "id": "gal0XUPcn5ZM"
      }
    },
    {
      "cell_type": "markdown",
      "source": [
        "- Personal details/local part like john123\n",
        "- Single @\n",
        "- Domain Name like gmail/yahoo etc\n",
        "- Single Dot(.)\n",
        "- Top Level Domain like .com/.org/.net\n"
      ],
      "metadata": {
        "id": "fiF2TL_0n-H4"
      }
    },
    {
      "cell_type": "markdown",
      "source": [
        "Input : expectationvsreality@gmail.com\n",
        "\n",
        "Output : Valid\n",
        "\n",
        "\n",
        "Input : greatwonderland@yahoo.com@\n",
        "\n",
        "Output : Invalid\n",
        "invalid karena ada @ setelag top level domain name."
      ],
      "metadata": {
        "id": "3piG2tSDoFxR"
      }
    },
    {
      "cell_type": "code",
      "source": [
        "# Python3 program to show the Implementation of VERBOSE in RegEX\n",
        "import re\n",
        "\n",
        "def validate_email(email):\n",
        "\n",
        "\t# RegexObject = re.compile( Regular expression, flag )\n",
        "\t# Compiles a regular expression pattern into\n",
        "\t# a regular expression object\n",
        "\tregex_email=re.compile(r\"\"\"\n",
        "\t\t\t\t\t\t\t^([a-z0-9_\\.-]+)\t\t\t\t # local Part\n",
        "\t\t\t\t\t\t@\n",
        "\t\t\t\t\t\t\t([0-9a-z\\.-]+)\t\t\t\t # Domain name\n",
        "\t\t\t\t\t\t\\.\t\t\t\t\t\t\t # single Dot .\n",
        "\t\t\t\t\t\t\t([a-z]{2,6})$\t\t\t\t # Top level Domain\n",
        "\t\t\t\t\t\t\"\"\",re.VERBOSE | re.IGNORECASE)\n",
        "\n",
        "\t# RegexObject is matched with the desired\n",
        "\t# string using fullmatch function\n",
        "\t# In case a match is found, search()\n",
        "\t# returns a MatchObject Instance\n",
        "\tres=regex_email.fullmatch(email)\n",
        "\n",
        "\t#If match is found, the string is valid\n",
        "\tif res:\n",
        "\t\tprint(\"{} is Valid. Details are as follow:\".format(email))\n",
        "\n",
        "\t\t#prints first part/personal detail of Email Id\n",
        "\t\tprint(\"Local:{}\".format(res.group(1)))\n",
        "\n",
        "\t\t#prints Domain Name of Email Id\n",
        "\t\tprint(\"Domain:{}\".format(res.group(2)))\n",
        "\n",
        "\t\t#prints Top Level Domain Name of Email Id\n",
        "\t\tprint(\"Top Level domain:{}\".format(res.group(3)))\n",
        "\t\tprint()\n",
        "\n",
        "\telse:\n",
        "\t\t#If match is not found,string is invalid\n",
        "\t\tprint(\"{} is Invalid\".format(email))\n",
        "\n",
        "# Driver Code\n",
        "validate_email(\"aliceinwonderland@gmail.com\")\n",
        "validate_email(\"harrypotter@yahoo.com@\")\n",
        "validate_email(\"Crucialllife@.com\")\n"
      ],
      "metadata": {
        "colab": {
          "base_uri": "https://localhost:8080/"
        },
        "id": "PU6MI5h_njj3",
        "outputId": "2ca4b485-7f69-4a91-95f5-7d7846c62176"
      },
      "execution_count": null,
      "outputs": [
        {
          "output_type": "stream",
          "name": "stdout",
          "text": [
            "aliceinwonderland@gmail.com is Valid. Details are as follow:\n",
            "Local:aliceinwonderland\n",
            "Domain:gmail\n",
            "Top Level domain:com\n",
            "\n",
            "harrypotter@yahoo.com@ is Invalid\n",
            "Crucialllife@.com is Invalid\n"
          ]
        }
      ]
    },
    {
      "cell_type": "code",
      "source": [
        "# Python3 program to show the Implementation of VERBOSE in RegEX\n",
        "import re\n",
        "\n",
        "def user_instagram(instagram):\n",
        "\n",
        "\tregex_instagram=re.compile(r\"\"\"\n",
        "            ^@\t\t\t\t\t\t\t           # single @ sign\n",
        "\t\t\t\t\t\t([a-z0-9_\\.-]+)\t\t\t\t # name user Part\n",
        "\t\t\t\t\t\t\"\"\",re.VERBOSE | re.IGNORECASE)\n",
        "\n",
        "\tres=regex_instagram.fullmatch(instagram)\n",
        "\n",
        "\tif res:\n",
        "\t\tprint(\"{} is Valid. Details are as follow:\".format(instagram))\n",
        "\n",
        "\t\tprint(\"name user:{}\".format(res.group(1)))\n",
        "\n",
        "\telse:\n",
        "\t\t#If match is not found,string is invalid\n",
        "\t\tprint(\"{} is Invalid\".format(instagram))\n",
        "\n",
        "# Driver Code\n",
        "user_instagram(\"@aditpramna\")\n",
        "user_instagram(\"aditya167\")\n",
        "user_instagram(\"aditya@pram\")\n",
        "user_instagram(\"@winardi1004\")"
      ],
      "metadata": {
        "colab": {
          "base_uri": "https://localhost:8080/"
        },
        "id": "ywuMNnQLQ3Bt",
        "outputId": "60fa9182-30c8-4ace-9825-79be39321d3c"
      },
      "execution_count": null,
      "outputs": [
        {
          "output_type": "stream",
          "name": "stdout",
          "text": [
            "@aditpramna is Valid. Details are as follow:\n",
            "name user:aditpramna\n",
            "aditya167 is Invalid\n",
            "aditya@pram is Invalid\n",
            "@winardi1004 is Valid. Details are as follow:\n",
            "name user:winardi1004\n"
          ]
        }
      ]
    },
    {
      "cell_type": "code",
      "source": [
        "\n",
        "import re\n",
        "\n",
        "def validate_email(email):\n",
        "\n",
        "\n",
        "\tregex_email=re.compile(r\"\"\"\n",
        "\t\t\t\t\t\t^([a-z0-9_\\.-]+)\t\t\t\t # local Part\n",
        "\t\t\t\t\t\t@\t\t\t\t\t\t\t # single @ sign\n",
        "\t\t\t\t\t\t\t([0-9a-z\\.-]+)\t\t\t\t # Domain name\n",
        "\t\t\t\t\t\t\\.\t\t\t\t\t\t\t # single Dot .\n",
        "\t\t\t\t\t\t\t([a-z]{2,6})$\t\t\t\t # Top level Domain\n",
        "\t\t\t\t\t\t\"\"\",re.VERBOSE | re.IGNORECASE)\n",
        "\n",
        "\n",
        "\tres=regex_email.fullmatch(email)\n",
        "\n",
        "\tif res:\n",
        "\t\tprint(\"{} is Valid. Details are as follow:\".format(email))\n",
        "\n",
        "\n",
        "\t\tprint(\"Local:{}\".format(res.group()))\n",
        "\n",
        "\n",
        "\t\tprint(\"Domain:{}\".format(res.group(2)))\n",
        "\n",
        "\t\tprint(\"Top Level domain:{}\".format(res.group(3)))\n",
        "\t\tprint()\n",
        "\n",
        "\telse:\n",
        "\n",
        "\t\tprint(\"{} is Invalid\".format(email))\n",
        "\n",
        "\n",
        "validate_email(\"adgan167@gmail.com\")\n",
        "validate_email(\"aditpramna1@@gmail.com\")\n",
        "validate_email(\"adityapramana107@gmail.,com\")\n",
        "validate_email(\"Awinardi1004@gmail.com\")\n",
        "\n"
      ],
      "metadata": {
        "colab": {
          "base_uri": "https://localhost:8080/"
        },
        "id": "VGECdH66_ZB8",
        "outputId": "fbd0edfc-c30d-4796-f61e-427babcdd0b8"
      },
      "execution_count": null,
      "outputs": [
        {
          "output_type": "stream",
          "name": "stdout",
          "text": [
            "adgan167@gmail.com is Valid. Details are as follow:\n",
            "Local:adgan167@gmail.com\n",
            "Domain:gmail\n",
            "Top Level domain:com\n",
            "\n",
            "aditpramna1@@gmail.com is Invalid\n",
            "adityapramana107@gmail.,com is Invalid\n",
            "Awinardi1004@gmail.com is Valid. Details are as follow:\n",
            "Local:Awinardi1004@gmail.com\n",
            "Domain:gmail\n",
            "Top Level domain:com\n",
            "\n"
          ]
        }
      ]
    },
    {
      "cell_type": "markdown",
      "source": [
        "# Thank you"
      ],
      "metadata": {
        "id": "gbowpmORpEXh"
      }
    }
  ]
}