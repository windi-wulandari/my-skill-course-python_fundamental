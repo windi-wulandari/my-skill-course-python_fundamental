{
  "cells": [
    {
      "cell_type": "markdown",
      "metadata": {
        "id": "view-in-github",
        "colab_type": "text"
      },
      "source": [
        "<a href=\"https://colab.research.google.com/github/windi-wulandari/my-skill-course-python/blob/main/Python_Function_Fundamental__python_part_2.ipynb\" target=\"_parent\"><img src=\"https://colab.research.google.com/assets/colab-badge.svg\" alt=\"Open In Colab\"/></a>"
      ]
    },
    {
      "cell_type": "markdown",
      "metadata": {
        "id": "6FkIx88TcBmf"
      },
      "source": [
        "# Python Function"
      ]
    },
    {
      "cell_type": "code",
      "execution_count": 2,
      "metadata": {
        "id": "FD5OVwDqoAce"
      },
      "outputs": [],
      "source": [
        "# function definition\n",
        "def greet(name): #untuk mendefinisikan suatu fungsi agar readable\n",
        "    '''\n",
        "    fungsi ini menyapa nama\n",
        "    orang yang masuk sebagai\n",
        "    sebuah parameter\n",
        "    '''\n",
        "    print(\"Hello, \" + name + \". Good morning! Welcome to the jungle!\")"
      ]
    },
    {
      "cell_type": "code",
      "execution_count": 3,
      "metadata": {
        "id": "jvpCeq_ypyN8",
        "colab": {
          "base_uri": "https://localhost:8080/"
        },
        "outputId": "4958375a-80b8-4ef5-bc42-79411e607ea0"
      },
      "outputs": [
        {
          "output_type": "stream",
          "name": "stdout",
          "text": [
            "Hello, Davin. Good morning! Welcome to the jungle!\n"
          ]
        }
      ],
      "source": [
        "greet('Davin')\n"
      ]
    },
    {
      "cell_type": "code",
      "execution_count": 4,
      "metadata": {
        "id": "Cx_uWDrA-K8e",
        "colab": {
          "base_uri": "https://localhost:8080/"
        },
        "outputId": "74553816-d93f-4bc6-fffc-59a746de7804"
      },
      "outputs": [
        {
          "output_type": "stream",
          "name": "stdout",
          "text": [
            "Hello, meaw. Good morning! Welcome to myskill!\n"
          ]
        }
      ],
      "source": [
        "# function definition\n",
        "def greet(name): #untuk mendefinisikan suatu fungsi agar readable\n",
        "    '''\n",
        "    fungsi ini menyapa nama\n",
        "    orang yang masuk sebagai\n",
        "    sebuah parameter\n",
        "    '''\n",
        "    print(\"Hello, \" + name + \". Good morning! Welcome to myskill!\")\n",
        "greet('meaw')"
      ]
    },
    {
      "cell_type": "markdown",
      "metadata": {
        "id": "8MfAwXKBxv1c"
      },
      "source": [
        "# Function Arguments"
      ]
    },
    {
      "cell_type": "markdown",
      "source": [],
      "metadata": {
        "id": "ZXj1wx3gdChg"
      }
    },
    {
      "cell_type": "code",
      "execution_count": 1,
      "metadata": {
        "colab": {
          "base_uri": "https://localhost:8080/"
        },
        "id": "2G9uKP45p42K",
        "outputId": "39272f1c-330f-4a69-d71a-ca0c99bcdc0b"
      },
      "outputs": [
        {
          "output_type": "stream",
          "name": "stdout",
          "text": [
            "Hello davin, apakabar\n"
          ]
        }
      ],
      "source": [
        "def greet(name, msg='apakabar'):\n",
        "    \"\"\"Fungsi ini menyapa\n",
        "    orang dengan pesan yang diberikan\"\"\"\n",
        "    print(\"Hello\", name + ', ' + msg)\n",
        "\n",
        "greet(\"davin\")"
      ]
    },
    {
      "cell_type": "markdown",
      "metadata": {
        "id": "aBelpviLyl0B"
      },
      "source": [
        "## Python Default Arguments"
      ]
    },
    {
      "cell_type": "markdown",
      "metadata": {
        "id": "yfTXj8Xay6ta"
      },
      "source": [
        "Kita dapat memberikan nilai default ke argumen dengan menggunakan operator penugasan (=). Berikut adalah contoh."
      ]
    },
    {
      "cell_type": "code",
      "execution_count": null,
      "metadata": {
        "colab": {
          "base_uri": "https://localhost:8080/"
        },
        "id": "j4yuryndymcm",
        "outputId": "cd017c03-cde0-4a46-a70d-7e0a5fe68813"
      },
      "outputs": [
        {
          "output_type": "stream",
          "name": "stdout",
          "text": [
            "Hello Faras, Good morning!\n",
            "Hello Luthfi, Apa kabar\n"
          ]
        }
      ],
      "source": [
        "def greet(name, msg=\"Good morning!\"):\n",
        "    \"\"\"\n",
        "    Fungsi ini menyapa\n",
        "    orang dengan\n",
        "    pesan yang disediakan.\n",
        "\n",
        "    Jika pesan tidak diberikan,\n",
        "    defaultnya adalah \"Good\n",
        "    morning!\"\n",
        "    \"\"\"\n",
        "\n",
        "    print(\"Hello\",name +', ' + msg)\n",
        "\n",
        "\n",
        "greet(\"Faras\")\n",
        "greet(\"Luthfi\", \"Apa kabar\")"
      ]
    },
    {
      "cell_type": "markdown",
      "metadata": {
        "id": "x1oDyhYPzXEs"
      },
      "source": [
        "Sejumlah argumen dalam suatu fungsi dapat memiliki nilai default. Tetapi begitu kita memiliki argumen default, semua argumen di sebelah kanannya juga harus memiliki nilai default."
      ]
    },
    {
      "cell_type": "markdown",
      "metadata": {
        "id": "eT0eCACaxoR0"
      },
      "source": []
    },
    {
      "cell_type": "markdown",
      "metadata": {
        "id": "ffOpSpT0zqz8"
      },
      "source": [
        "## Python Keyword Arguments\n"
      ]
    },
    {
      "cell_type": "markdown",
      "metadata": {
        "id": "jPWNb9fYzsIf"
      },
      "source": [
        "Saat kita memanggil fungsi dengan beberapa nilai, nilai-nilai ini ditugaskan ke argumen sesuai dengan posisinya.\n",
        "\n",
        "Sebagai contoh, pada fungsi di atas greet(), ketika kita menyebutnya sebagai greet(\"Bruce\", \"Bagaimana kabarmu?\"), nilai \"Bruce\" diberikan ke name argumen dan juga \"Bagaimana kabarmu? \" ke msg\n",
        "\n",
        "Python memungkinkan fungsi dipanggil menggunakan argumen kata kunci. Ketika kita memanggil fungsi dengan cara ini, urutan (posisi) argumen dapat diubah. Panggilan berikut ke fungsi di atas semuanya valid dan menghasilkan hasil yang sama."
      ]
    },
    {
      "cell_type": "code",
      "execution_count": null,
      "metadata": {
        "colab": {
          "base_uri": "https://localhost:8080/"
        },
        "id": "9YiemfEyzXp4",
        "outputId": "483e6624-5b46-45c8-8e2e-3732d2ff6091"
      },
      "outputs": [
        {
          "output_type": "stream",
          "name": "stdout",
          "text": [
            "Hello Luthfi ganteng, How do you do?\n",
            "Hello Luthfi ganteng, How do you do?\n",
            "Hello Luthfi ganteng, How do you do?\n"
          ]
        }
      ],
      "source": [
        "# 2 keyword arguments\n",
        "greet(name = \"Luthfi\",msg = \"How do you do?\")\n",
        "\n",
        "# 2 keyword arguments (out of order)\n",
        "greet(msg = \"How do you do?\",name = \"Luthfi\")\n",
        "\n",
        "# 1 positional, 1 keyword argument\n",
        "greet(\"Luthfi\", msg = \"How do you do?\")"
      ]
    },
    {
      "cell_type": "markdown",
      "metadata": {
        "id": "DVASnfSc0bEf"
      },
      "source": [
        " ## Python Arbitrary Arguments"
      ]
    },
    {
      "cell_type": "markdown",
      "metadata": {
        "id": "X545P-xm0g2A"
      },
      "source": [
        "Terkadang, kita tidak mengetahui terlebih dahulu jumlah argumen yang akan dimasukkan ke dalam suatu fungsi. Python memungkinkan kita untuk menangani situasi semacam ini melalui pemanggilan fungsi dengan sejumlah argumen yang berubah-ubah.\n",
        "\n",
        "Dalam definisi fungsi, kita menggunakan tanda bintang (*) sebelum nama parameter untuk menunjukkan jenis argumen ini. Berikut adalah contoh."
      ]
    },
    {
      "cell_type": "code",
      "execution_count": 5,
      "metadata": {
        "colab": {
          "base_uri": "https://localhost:8080/"
        },
        "id": "Ipxv7KG80MfF",
        "outputId": "f303b199-fd9d-418b-a371-cff4cda8f8e2"
      },
      "outputs": [
        {
          "output_type": "stream",
          "name": "stdout",
          "text": [
            "Hello w\n",
            "Hello B\n",
            "Hello C\n",
            "Hello D\n"
          ]
        }
      ],
      "source": [
        "def greet(*names):\n",
        "    \"\"\"Fungsi ini menyapa semua\n",
        "    orang dalam nama tuple.\"\"\"\n",
        "\n",
        "    # names is a tuple with arguments\n",
        "    for name in names:\n",
        "        print(\"Hello\", name)\n",
        "\n",
        "\n",
        "greet(\"w\", \"B\", \"C\", \"D\")"
      ]
    },
    {
      "cell_type": "markdown",
      "metadata": {
        "id": "zpqCyanu1j-b"
      },
      "source": [
        "# Python Recursion"
      ]
    },
    {
      "cell_type": "markdown",
      "metadata": {
        "id": "_NgqrgPF2Z1O"
      },
      "source": [
        "Berikut ini adalah contoh fungsi rekursif untuk mencari faktorial suatu bilangan bulat.\n",
        "\n",
        "Faktorial suatu bilangan adalah hasil kali semua bilangan bulat dari 1 sampai dengan bilangan tersebut. Misalnya, faktorial dari 6 (dilambangkan dengan 6!) adalah 1*2*3*4*5*6 = 720"
      ]
    },
    {
      "cell_type": "code",
      "execution_count": null,
      "metadata": {
        "colab": {
          "base_uri": "https://localhost:8080/"
        },
        "id": "EmAnwrXG0yT9",
        "outputId": "06ae242e-4ab1-457d-b220-2884549a745a"
      },
      "outputs": [
        {
          "output_type": "stream",
          "name": "stdout",
          "text": [
            "Nilai factorial dari 3 adalah 6\n"
          ]
        }
      ],
      "source": [
        "def factorial(x):\n",
        "    \"\"\"Ini adalah fungsi rekursif\n",
        "    untuk menemukan faktorial dari bilangan bulat\"\"\"\n",
        "\n",
        "    if x == 1:\n",
        "        return 1\n",
        "    else:\n",
        "        return x * factorial(x-1)\n",
        "\n",
        "\n",
        "num = 3\n",
        "\n",
        "print(\"Nilai factorial dari\", num, \"adalah\", factorial(num))"
      ]
    },
    {
      "cell_type": "markdown",
      "metadata": {
        "id": "dA-pb8Lw210D"
      },
      "source": [
        "factorial(3)          # 1st call with 3\\\n",
        "3 * factorial(2)      # 2nd call with 2\\\n",
        "3 * 2 * factorial(1)  # 3rd call with 1\\\n",
        "3 * 2 * 1             # return from 3rd call as number=1\\\n",
        "3 * 2                 # return from 2nd call\\\n",
        "6                     # return from 1st call"
      ]
    },
    {
      "cell_type": "code",
      "source": [
        "def factorial_iterative(n):\n",
        "    result = 1\n",
        "    for i in range(1, n + 1):\n",
        "        result *= i\n",
        "    return result\n",
        "\n",
        "# Contoh penggunaan:\n",
        "n = 5\n",
        "print(f\"Faktorial dari {n} adalah {factorial_iterative(n)}\")"
      ],
      "metadata": {
        "colab": {
          "base_uri": "https://localhost:8080/"
        },
        "id": "4gRIN-vJdoD9",
        "outputId": "247f6a99-1563-4857-c637-54a6a09baf88"
      },
      "execution_count": 6,
      "outputs": [
        {
          "output_type": "stream",
          "name": "stdout",
          "text": [
            "Faktorial dari 5 adalah 120\n"
          ]
        }
      ]
    },
    {
      "cell_type": "markdown",
      "metadata": {
        "id": "Db5dsocw3ogH"
      },
      "source": [
        "# Anonymous Function"
      ]
    },
    {
      "cell_type": "code",
      "execution_count": null,
      "metadata": {
        "colab": {
          "base_uri": "https://localhost:8080/"
        },
        "id": "00Kvnwji3nxE",
        "outputId": "6f6eb595-e73d-4d39-c0b3-ce151001fa65"
      },
      "outputs": [
        {
          "output_type": "stream",
          "name": "stdout",
          "text": [
            "25\n"
          ]
        }
      ],
      "source": [
        "# Program to show the use of lambda functions\n",
        "double = lambda x: x * 5\n",
        "\n",
        "print(double(5))"
      ]
    },
    {
      "cell_type": "markdown",
      "metadata": {
        "id": "4Vx6k7xl9czH"
      },
      "source": [
        "Kita menggunakan fungsi lambda ketika kita membutuhkan fungsi tanpa nama untuk waktu yang singkat.\n",
        "\n",
        "Dalam Python, kita biasanya menggunakannya sebagai argumen ke fungsi tingkat tinggi (fungsi yang menggunakan fungsi lain sebagai argumen). Fungsi Lambda digunakan bersama dengan fungsi bawaan seperti filter(), map() dll."
      ]
    },
    {
      "cell_type": "markdown",
      "metadata": {
        "id": "OrLI47yA9316"
      },
      "source": [
        "Fungsi filter() dalam Python mengambil fungsi dan list sebagai argumen.\n",
        "\n",
        "Fungsi dipanggil dengan semua item dalam list dan list baru dikembalikan yang berisi item yang fungsi dievaluasi ke True.\n",
        "\n",
        "Berikut adalah contoh penggunaan fungsi filter() untuk memfilter hanya angka genap dari list."
      ]
    },
    {
      "cell_type": "code",
      "execution_count": null,
      "metadata": {
        "colab": {
          "base_uri": "https://localhost:8080/"
        },
        "id": "4MNvyqpO2lTx",
        "outputId": "88ab4279-4913-4009-9086-c8e203548e3c"
      },
      "outputs": [
        {
          "output_type": "stream",
          "name": "stdout",
          "text": [
            "[1, 5, 4, 6, 3]\n"
          ]
        }
      ],
      "source": [
        "# Program to filter out only the even items from a list\n",
        "my_list = [1, 5, 4, 6, 8, 11, 3, 12]\n",
        "\n",
        "new_list = list(filter(lambda x: (x%2 ==0) , my_list))\n",
        "\n",
        "print(new_list)"
      ]
    },
    {
      "cell_type": "markdown",
      "metadata": {
        "id": "yh2CFrOp-ME7"
      },
      "source": [
        "Fungsi map() dalam Python mengambil fungsi dan list.\n",
        "\n",
        "Fungsi dipanggil dengan semua item dalam list dan list baru dikembalikan yang berisi item yang dikembalikan oleh fungsi itu untuk setiap item.\n",
        "\n",
        "Berikut adalah contoh penggunaan fungsi map() untuk menggandakan semua item dalam list."
      ]
    },
    {
      "cell_type": "code",
      "execution_count": null,
      "metadata": {
        "colab": {
          "base_uri": "https://localhost:8080/"
        },
        "id": "fuXUWHBt-AAm",
        "outputId": "85169499-5d76-49d1-d722-a20e8b531b6d"
      },
      "outputs": [
        {
          "output_type": "stream",
          "name": "stdout",
          "text": [
            "[2, 10, 8, 12, 16, 22, 6, 24]\n"
          ]
        }
      ],
      "source": [
        "# Program to double each item in a list using map()\n",
        "\n",
        "my_list = [1, 5, 4, 6, 8, 11, 3, 12]\n",
        "\n",
        "new_list = list(map(lambda x: x * 2 , my_list))\n",
        "\n",
        "print(new_list)"
      ]
    },
    {
      "cell_type": "markdown",
      "metadata": {
        "id": "xN7oToQH-xey"
      },
      "source": [
        "# Global, Local and Non-Local Variable"
      ]
    },
    {
      "cell_type": "markdown",
      "metadata": {
        "id": "PC0ZKbIR-06-"
      },
      "source": [
        "## Global Variable and Local Variable"
      ]
    },
    {
      "cell_type": "code",
      "execution_count": null,
      "metadata": {
        "colab": {
          "base_uri": "https://localhost:8080/"
        },
        "id": "9Pua2fd5-StD",
        "outputId": "b2e8be6e-bd1d-4209-bbc4-04490e713d6a"
      },
      "outputs": [
        {
          "output_type": "stream",
          "name": "stdout",
          "text": [
            "x dalam: global\n",
            "x luar: global\n"
          ]
        }
      ],
      "source": [
        "x = \"global\"\n",
        "\n",
        "def foo():\n",
        "    print(\"x dalam:\", x)\n",
        "\n",
        "\n",
        "foo()\n",
        "print(\"x luar:\", x)\n"
      ]
    },
    {
      "cell_type": "markdown",
      "metadata": {
        "id": "fl1FqKtI_VB8"
      },
      "source": [
        "Dalam kode di atas, kita membuat x sebagai variabel global dan mendefinisikan foo() untuk mencetak variabel global x. Terakhir, kita panggil foo() yang akan mencetak nilai x.\n",
        "\n",
        "\n",
        "Bagaimana jika kita ingin mengubah nilai x di dalam suatu fungsi?"
      ]
    },
    {
      "cell_type": "code",
      "execution_count": null,
      "metadata": {
        "colab": {
          "base_uri": "https://localhost:8080/"
        },
        "id": "jbIEXjER-3D6",
        "outputId": "74ef3229-8d1a-4d70-bd54-b85486d5c253"
      },
      "outputs": [
        {
          "output_type": "stream",
          "name": "stdout",
          "text": [
            "globalglobal\n"
          ]
        }
      ],
      "source": [
        "x = \"global\"\n",
        "\n",
        "def foo():\n",
        "    global x\n",
        "    x = x * 2\n",
        "    print(x)\n",
        "foo()"
      ]
    },
    {
      "cell_type": "code",
      "source": [],
      "metadata": {
        "id": "qzxDpUFRDC1V"
      },
      "execution_count": null,
      "outputs": []
    },
    {
      "cell_type": "code",
      "execution_count": null,
      "metadata": {
        "colab": {
          "base_uri": "https://localhost:8080/"
        },
        "id": "IoZJ8A6A_b_-",
        "outputId": "8b2e4dec-e99e-4062-ab26-971ea75888b8"
      },
      "outputs": [
        {
          "output_type": "stream",
          "name": "stdout",
          "text": [
            "globalglobal\n"
          ]
        }
      ],
      "source": [
        "x = \"global\"\n",
        "\n",
        "def foo():\n",
        "    global x\n",
        "    x = x * 2\n",
        "    print(x)\n",
        "foo()"
      ]
    },
    {
      "cell_type": "code",
      "execution_count": null,
      "metadata": {
        "colab": {
          "base_uri": "https://localhost:8080/"
        },
        "id": "4ni2PXJp_ulK",
        "outputId": "da789ebf-d0ec-4fe1-9080-f95648eadccd"
      },
      "outputs": [
        {
          "output_type": "stream",
          "name": "stdout",
          "text": [
            "global global \n",
            "local\n"
          ]
        }
      ],
      "source": [
        "x = \"global \"\n",
        "\n",
        "def foo():\n",
        "    global x\n",
        "    y = \"local\"\n",
        "    x = x * 2\n",
        "    print(x)\n",
        "    print(y)\n",
        "\n",
        "foo()"
      ]
    },
    {
      "cell_type": "markdown",
      "metadata": {
        "id": "45n5X_Z2ET8a"
      },
      "source": [
        "## Non-Local Variable"
      ]
    },
    {
      "cell_type": "code",
      "execution_count": null,
      "metadata": {
        "colab": {
          "base_uri": "https://localhost:8080/"
        },
        "id": "8fKniSXFB1c0",
        "outputId": "0b74c38c-3b9c-40f7-9e5f-3e6b57062bb3"
      },
      "outputs": [
        {
          "output_type": "stream",
          "name": "stdout",
          "text": [
            "inner: nonlocal\n",
            "outer: nonlocal\n"
          ]
        }
      ],
      "source": [
        "def outer():\n",
        "    x = \"local\"\n",
        "\n",
        "    def inner():\n",
        "        nonlocal x\n",
        "        x = \"nonlocal\"\n",
        "        print(\"inner:\", x)\n",
        "\n",
        "    inner()\n",
        "    print(\"outer:\", x)\n",
        "\n",
        "outer()"
      ]
    },
    {
      "cell_type": "code",
      "source": [
        "plist = [123,456,789]\n",
        "plist.append(123)\n",
        "print(plist)"
      ],
      "metadata": {
        "colab": {
          "base_uri": "https://localhost:8080/"
        },
        "id": "5RhEP0n1uuI5",
        "outputId": "c4b5bbcb-34ba-40f5-c7a6-93fe0cc27728"
      },
      "execution_count": null,
      "outputs": [
        {
          "output_type": "stream",
          "name": "stdout",
          "text": [
            "[123, 456, 789, 123]\n"
          ]
        }
      ]
    },
    {
      "cell_type": "code",
      "source": [
        "you = 2\n",
        "if you >= 5:\n",
        "  print('chill bro')\n",
        "elif you >=3:\n",
        "  print('sorry')\n",
        "else:\n",
        "  print('fuck me')\n"
      ],
      "metadata": {
        "colab": {
          "base_uri": "https://localhost:8080/"
        },
        "id": "j1TYNX-dyA-C",
        "outputId": "9c66a6e1-5df7-497e-bc7f-ffec9bf7da9a"
      },
      "execution_count": null,
      "outputs": [
        {
          "output_type": "stream",
          "name": "stdout",
          "text": [
            "fuck me\n"
          ]
        }
      ]
    },
    {
      "cell_type": "markdown",
      "source": [
        "# New Section"
      ],
      "metadata": {
        "id": "d_sQ9k0DwoRk"
      }
    }
  ],
  "metadata": {
    "colab": {
      "provenance": [],
      "collapsed_sections": [
        "6FkIx88TcBmf",
        "Db5dsocw3ogH",
        "xN7oToQH-xey"
      ],
      "include_colab_link": true
    },
    "kernelspec": {
      "display_name": "Python 3",
      "name": "python3"
    },
    "language_info": {
      "name": "python"
    }
  },
  "nbformat": 4,
  "nbformat_minor": 0
}