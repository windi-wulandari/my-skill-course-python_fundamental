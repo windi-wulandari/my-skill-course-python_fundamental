{
  "nbformat": 4,
  "nbformat_minor": 0,
  "metadata": {
    "colab": {
      "provenance": [],
      "include_colab_link": true
    },
    "kernelspec": {
      "name": "python3",
      "display_name": "Python 3"
    },
    "language_info": {
      "name": "python"
    }
  },
  "cells": [
    {
      "cell_type": "markdown",
      "metadata": {
        "id": "view-in-github",
        "colab_type": "text"
      },
      "source": [
        "<a href=\"https://colab.research.google.com/github/windi-wulandari/my-skill-course-python/blob/main/Python_Fundamental_part_1.ipynb\" target=\"_parent\"><img src=\"https://colab.research.google.com/assets/colab-badge.svg\" alt=\"Open In Colab\"/></a>"
      ]
    },
    {
      "cell_type": "markdown",
      "source": [
        "# Common Data Structure"
      ],
      "metadata": {
        "id": "6FkIx88TcBmf"
      }
    },
    {
      "cell_type": "code",
      "execution_count": 1,
      "metadata": {
        "colab": {
          "base_uri": "https://localhost:8080/"
        },
        "id": "Lx0kEFO7b9lo",
        "outputId": "f488073e-a88e-4cfb-ec0f-3c60d1984024"
      },
      "outputs": [
        {
          "output_type": "stream",
          "name": "stdout",
          "text": [
            "[]\n",
            "[1, 2, 3, 'example', 3.14]\n"
          ]
        }
      ],
      "source": [
        "# Lists\n",
        "\n",
        "my_list = [] #create empty list\n",
        "print(my_list)\n",
        "my_list = [1, 2, 3, 'example', 3.14] #creating list with data\n",
        "print(my_list)"
      ]
    },
    {
      "cell_type": "code",
      "source": [
        "# Dictionary\n",
        "my_dict = {'First': 'Python', 'Second': 'Java'}\n",
        "print(my_dict)\n",
        "my_dict['Second'] = 'C++' #changing element\n",
        "print(my_dict)\n",
        "my_dict['Third'] = 'Ruby' #adding key-value pair\n",
        "print(my_dict)"
      ],
      "metadata": {
        "colab": {
          "base_uri": "https://localhost:8080/"
        },
        "id": "sWHhP_Nicjqn",
        "outputId": "c5075b26-96c3-4b3a-dfbd-fc3f087a68d1"
      },
      "execution_count": 2,
      "outputs": [
        {
          "output_type": "stream",
          "name": "stdout",
          "text": [
            "{'First': 'Python', 'Second': 'Java'}\n",
            "{'First': 'Python', 'Second': 'C++'}\n",
            "{'First': 'Python', 'Second': 'C++', 'Third': 'Ruby'}\n"
          ]
        }
      ]
    },
    {
      "cell_type": "code",
      "source": [
        "# Tuple\n",
        "my_tuple = (1, 2, 3, 'myskill') #create tuple\n",
        "print(my_tuple)\n",
        "print(my_tuple[0])\n",
        "print(my_tuple[:])\n",
        "print(my_tuple[3][4])\n"
      ],
      "metadata": {
        "colab": {
          "base_uri": "https://localhost:8080/"
        },
        "id": "WRds9hqsc9-H",
        "outputId": "7fde7561-0f7f-4c25-93fb-6f50a61dff34"
      },
      "execution_count": 3,
      "outputs": [
        {
          "output_type": "stream",
          "name": "stdout",
          "text": [
            "(1, 2, 3, 'myskill')\n",
            "1\n",
            "(1, 2, 3, 'myskill')\n",
            "i\n"
          ]
        }
      ]
    },
    {
      "cell_type": "code",
      "source": [
        "# Sets\n",
        "my_set = {1, 2, 3, 4, 5, 5, 5} #create set\n",
        "print(my_set)\n",
        "my_set.add(4) #add element to set\n",
        "print(my_set)\n"
      ],
      "metadata": {
        "id": "oLCB1mvcdYem",
        "colab": {
          "base_uri": "https://localhost:8080/"
        },
        "outputId": "d04e6a71-c3e7-4450-ea5e-dbbe81a99d17"
      },
      "execution_count": 4,
      "outputs": [
        {
          "output_type": "stream",
          "name": "stdout",
          "text": [
            "{1, 2, 3, 4, 5}\n",
            "{1, 2, 3, 4, 5}\n"
          ]
        }
      ]
    },
    {
      "cell_type": "code",
      "source": [
        "my_set = {1, 2, 3, 4}\n",
        "my_set_2 = {3, 4, 5, 6}\n",
        "print(my_set.union(my_set_2), '----------', my_set | my_set_2)\n",
        "print(my_set.intersection(my_set_2), '----------', my_set & my_set_2)\n",
        "print(my_set.difference(my_set_2), '----------', my_set - my_set_2)\n",
        "print(my_set.symmetric_difference(my_set_2), '----------', my_set ^ my_set_2)\n",
        "my_set.clear()\n",
        "print(my_set)\n"
      ],
      "metadata": {
        "colab": {
          "base_uri": "https://localhost:8080/"
        },
        "id": "QG9GEVeKd7pT",
        "outputId": "159d7017-5ea2-45d8-ec73-a068e474c417"
      },
      "execution_count": 5,
      "outputs": [
        {
          "output_type": "stream",
          "name": "stdout",
          "text": [
            "{1, 2, 3, 4, 5, 6} ---------- {1, 2, 3, 4, 5, 6}\n",
            "{3, 4} ---------- {3, 4}\n",
            "{1, 2} ---------- {1, 2}\n",
            "{1, 2, 5, 6} ---------- {1, 2, 5, 6}\n",
            "set()\n"
          ]
        }
      ]
    },
    {
      "cell_type": "code",
      "source": [
        "# Tried_Windi\n",
        "# Membuat list dengan berbagai tipe data\n",
        "mixed_list = [1, 'two', 3.0, [4, 'four'], 5]\n",
        "print(mixed_list)\n",
        "\n",
        "# Menambahkan elemen ke dalam list\n",
        "mixed_list.append('six')\n",
        "print(mixed_list)\n",
        "\n",
        "# Slicing (mengambil sebagian dari list)\n",
        "subset = mixed_list[1:4]\n",
        "print(subset)\n"
      ],
      "metadata": {
        "colab": {
          "base_uri": "https://localhost:8080/"
        },
        "id": "0S64brfp2rPa",
        "outputId": "ba534f9c-7571-494a-8840-3948c9e05924"
      },
      "execution_count": 6,
      "outputs": [
        {
          "output_type": "stream",
          "name": "stdout",
          "text": [
            "[1, 'two', 3.0, [4, 'four'], 5]\n",
            "[1, 'two', 3.0, [4, 'four'], 5, 'six']\n",
            "['two', 3.0, [4, 'four']]\n"
          ]
        }
      ]
    },
    {
      "cell_type": "code",
      "source": [
        "# Tried Windi 2\n",
        "# Membuat dictionary dengan tipe data yang berbeda\n",
        "student_info = {\n",
        "    'name': 'John Doe',\n",
        "    'age': 25,\n",
        "    'grades': {'math': 90, 'english': 85, 'history': 88}\n",
        "}\n",
        "print(student_info)\n",
        "\n",
        "# Mengakses nilai dari nested dictionary\n",
        "math_grade = student_info['grades']['math']\n",
        "print(f\"Math Grade: {math_grade}\")\n"
      ],
      "metadata": {
        "id": "dj0BFY725g0N",
        "outputId": "918ae89a-0141-4d7a-9152-c61c9687e4f4",
        "colab": {
          "base_uri": "https://localhost:8080/"
        }
      },
      "execution_count": 9,
      "outputs": [
        {
          "output_type": "stream",
          "name": "stdout",
          "text": [
            "{'name': 'John Doe', 'age': 25, 'grades': {'math': 90, 'english': 85, 'history': 88}}\n",
            "Math Grade: 90\n"
          ]
        }
      ]
    },
    {
      "cell_type": "code",
      "source": [
        "# Tried Windi 3\n",
        "# Membuat tuple dengan tipe data yang berbeda\n",
        "mixed_tuple = ('apple', 42, [3.14, 'pi'])\n",
        "print(mixed_tuple)\n",
        "\n",
        "# Menambah elemen ke dalam tuple (tidak dapat dilakukan)\n",
        "# mixed_tuple.append('new element')  # Akan menghasilkan AttributeError\n"
      ],
      "metadata": {
        "id": "8ZKoGJ_M7FKC",
        "outputId": "3686194d-5ced-49da-c7e6-eeee7ec06311",
        "colab": {
          "base_uri": "https://localhost:8080/"
        }
      },
      "execution_count": 10,
      "outputs": [
        {
          "output_type": "stream",
          "name": "stdout",
          "text": [
            "('apple', 42, [3.14, 'pi'])\n"
          ]
        }
      ]
    },
    {
      "cell_type": "code",
      "source": [
        "# Tried Windi 4\n",
        "# Membuat set dengan tipe data yang berbeda\n",
        "my_set = {1, 'two', 3.0, (4, 'four')}\n",
        "print(my_set)\n",
        "\n",
        "# Operasi set yang berbeda\n",
        "set_a = {1, 2, 3, 4}\n",
        "set_b = {3, 4, 5, 6}\n",
        "\n",
        "# Difference\n",
        "difference_set = set_a.difference(set_b)\n",
        "print(difference_set)\n",
        "\n",
        "# Menambah elemen ke dalam set\n",
        "my_set.add(5)\n",
        "print(my_set)\n"
      ],
      "metadata": {
        "id": "xiEsVaG07U-N",
        "outputId": "77fe6b19-dbf9-49db-ff11-e48576499899",
        "colab": {
          "base_uri": "https://localhost:8080/"
        }
      },
      "execution_count": 11,
      "outputs": [
        {
          "output_type": "stream",
          "name": "stdout",
          "text": [
            "{1, 3.0, (4, 'four'), 'two'}\n",
            "{1, 2}\n",
            "{1, 3.0, 5, (4, 'four'), 'two'}\n"
          ]
        }
      ]
    },
    {
      "cell_type": "markdown",
      "source": [
        "# Conditional Statement"
      ],
      "metadata": {
        "id": "sR7UNjM0eOhu"
      }
    },
    {
      "cell_type": "code",
      "source": [
        "# IF Statement\n",
        "num = 5\n",
        "if num > 0:\n",
        "    print(num, \"is a positive number.\")\n",
        "print(\"This statement is true.\")"
      ],
      "metadata": {
        "colab": {
          "base_uri": "https://localhost:8080/"
        },
        "id": "r3UO38JOd7-8",
        "outputId": "bf4d543e-cdf5-424d-a8e5-98d1e336e977"
      },
      "execution_count": 12,
      "outputs": [
        {
          "output_type": "stream",
          "name": "stdout",
          "text": [
            "5 is a positive number.\n",
            "This statement is true.\n"
          ]
        }
      ]
    },
    {
      "cell_type": "code",
      "source": [
        "# IF Else Statement\n",
        "num = 5\n",
        "if num >= 0:\n",
        "    print(\"Positive or Zero\")\n",
        "else:\n",
        "     print(\"Negative number\")"
      ],
      "metadata": {
        "colab": {
          "base_uri": "https://localhost:8080/"
        },
        "id": "QB1JSi4WezHH",
        "outputId": "0fba4693-551e-45a9-b273-58224d8a3047"
      },
      "execution_count": 13,
      "outputs": [
        {
          "output_type": "stream",
          "name": "stdout",
          "text": [
            "Positive or Zero\n"
          ]
        }
      ]
    },
    {
      "cell_type": "code",
      "source": [
        "# IF, Elif, Else Statement\n",
        "num = 0\n",
        "if num > 0:\n",
        "    print(\"Positive number\")\n",
        "elif num == 0:\n",
        "    print(\"Zero\")\n",
        "else:\n",
        "    print(\"Negative number\")"
      ],
      "metadata": {
        "colab": {
          "base_uri": "https://localhost:8080/"
        },
        "id": "Pb3vXO87e5Pj",
        "outputId": "a09784c8-cced-46de-b674-32febb3f9221"
      },
      "execution_count": 14,
      "outputs": [
        {
          "output_type": "stream",
          "name": "stdout",
          "text": [
            "Zero\n"
          ]
        }
      ]
    },
    {
      "cell_type": "code",
      "source": [
        "# IF nested\n",
        "num = 8\n",
        "if num >= 0:\n",
        "    if num == 0:\n",
        "        print(\"zero\")\n",
        "    else:\n",
        "        print(\"Positive number\")\n",
        "else:\n",
        "    print(\"Negative number\")"
      ],
      "metadata": {
        "colab": {
          "base_uri": "https://localhost:8080/"
        },
        "id": "BawBG_BIfBaY",
        "outputId": "5e4862fb-7944-4f4c-91f8-418037343eef"
      },
      "execution_count": 15,
      "outputs": [
        {
          "output_type": "stream",
          "name": "stdout",
          "text": [
            "Positive number\n"
          ]
        }
      ]
    },
    {
      "cell_type": "markdown",
      "source": [
        "# Loops"
      ],
      "metadata": {
        "id": "Ji_S7jQrfUX-"
      }
    },
    {
      "cell_type": "code",
      "source": [
        "# While Loop\n",
        "num = 1\n",
        "odd_nums = []\n",
        "while num:\n",
        "    if num % 2 != 0:\n",
        "        odd_nums.append(num)\n",
        "    if num >=20:\n",
        "        break\n",
        "    num += 1\n",
        "print(\"Odd numbers: \", odd_nums)"
      ],
      "metadata": {
        "colab": {
          "base_uri": "https://localhost:8080/"
        },
        "id": "AekaXj1LfGQA",
        "outputId": "53dae798-9875-4b3b-8382-cc3b37d9ecf9"
      },
      "execution_count": 21,
      "outputs": [
        {
          "output_type": "stream",
          "name": "stdout",
          "text": [
            "Odd numbers:  [1, 3, 5, 7, 9, 11, 13, 15, 17, 19]\n"
          ]
        }
      ]
    },
    {
      "cell_type": "code",
      "source": [
        "# For Loop\n",
        "list = [1, 2, 3, 4, 5]\n",
        "for num in list:\n",
        "    print(num)"
      ],
      "metadata": {
        "colab": {
          "base_uri": "https://localhost:8080/"
        },
        "id": "cnuqb4-BfXMT",
        "outputId": "6195b013-13f0-4439-bb7c-a4cf9c99f6d5"
      },
      "execution_count": 22,
      "outputs": [
        {
          "output_type": "stream",
          "name": "stdout",
          "text": [
            "1\n",
            "2\n",
            "3\n",
            "4\n",
            "5\n"
          ]
        }
      ]
    },
    {
      "cell_type": "markdown",
      "source": [
        "# Function"
      ],
      "metadata": {
        "id": "u5L9Dm2CfvkA"
      }
    },
    {
      "cell_type": "code",
      "source": [
        "# Function with Return\n",
        "def pow(a):\n",
        "  return a**2\n",
        "\n",
        "print(pow(2))\n",
        "power = pow(2)\n",
        "print(power)"
      ],
      "metadata": {
        "colab": {
          "base_uri": "https://localhost:8080/"
        },
        "id": "Ocye-dt0ft3-",
        "outputId": "cd37b561-4b82-43f4-eea2-477fefa5cd7b"
      },
      "execution_count": 23,
      "outputs": [
        {
          "output_type": "stream",
          "name": "stdout",
          "text": [
            "4\n",
            "4\n"
          ]
        }
      ]
    },
    {
      "cell_type": "code",
      "source": [
        "def pow(a):\n",
        "  print(a**2)\n",
        "\n",
        "pow(2)"
      ],
      "metadata": {
        "colab": {
          "base_uri": "https://localhost:8080/"
        },
        "id": "2ySEDgvfr3fd",
        "outputId": "a6322255-e6a6-408b-a4c6-974e85746e18"
      },
      "execution_count": 24,
      "outputs": [
        {
          "output_type": "stream",
          "name": "stdout",
          "text": [
            "4\n"
          ]
        }
      ]
    }
  ]
}