{
  "nbformat": 4,
  "nbformat_minor": 0,
  "metadata": {
    "colab": {
      "provenance": [],
      "include_colab_link": true
    },
    "kernelspec": {
      "name": "python3",
      "display_name": "Python 3"
    },
    "language_info": {
      "name": "python"
    }
  },
  "cells": [
    {
      "cell_type": "markdown",
      "metadata": {
        "id": "view-in-github",
        "colab_type": "text"
      },
      "source": [
        "<a href=\"https://colab.research.google.com/github/windi-wulandari/my-skill-course-python/blob/main/String.ipynb\" target=\"_parent\"><img src=\"https://colab.research.google.com/assets/colab-badge.svg\" alt=\"Open In Colab\"/></a>"
      ]
    },
    {
      "cell_type": "markdown",
      "source": [
        "# What is String?\n"
      ],
      "metadata": {
        "id": "6FkIx88TcBmf"
      }
    },
    {
      "cell_type": "code",
      "source": [
        "\"myskill\" or 'myskill'"
      ],
      "metadata": {
        "id": "FD5OVwDqoAce",
        "colab": {
          "base_uri": "https://localhost:8080/",
          "height": 35
        },
        "outputId": "6a048705-d277-4001-9d12-cf4ce6799662"
      },
      "execution_count": null,
      "outputs": [
        {
          "output_type": "execute_result",
          "data": {
            "text/plain": [
              "'myskill'"
            ],
            "application/vnd.google.colaboratory.intrinsic+json": {
              "type": "string"
            }
          },
          "metadata": {},
          "execution_count": 1
        }
      ]
    },
    {
      "cell_type": "code",
      "source": [
        "print(\"myskill providing course\"[9])\n",
        "print(\"aditya pramana putra\"[-20])"
      ],
      "metadata": {
        "colab": {
          "base_uri": "https://localhost:8080/"
        },
        "id": "OdTbFPYWg9kv",
        "outputId": "2e0fbea9-14d9-4c74-dbdc-0f5179f6c92b"
      },
      "execution_count": null,
      "outputs": [
        {
          "output_type": "stream",
          "name": "stdout",
          "text": [
            "r\n",
            "a\n"
          ]
        }
      ]
    },
    {
      "cell_type": "markdown",
      "source": [
        "## Create String"
      ],
      "metadata": {
        "id": "HJM61Rdjh0cD"
      }
    },
    {
      "cell_type": "code",
      "source": [],
      "metadata": {
        "id": "G-t5Szdo6ITs"
      },
      "execution_count": null,
      "outputs": []
    },
    {
      "cell_type": "code",
      "source": [
        "# Creating a String\n",
        "# with single Quotes\n",
        "String1 = 'Welcome to MySkill'\n",
        "print(\"String with the use of Single Quotes: \")\n",
        "print(String1)\n",
        "\n",
        "# Creating a String\n",
        "# with double Quotes\n",
        "String1 = \"I'm Jon\"\n",
        "print(\"\\nString with the use of Double Quotes: \")\n",
        "print(String1)\n",
        "\n",
        "# Creating a String\n",
        "# with triple Quotes\n",
        "String1 = '''I'm MySkill Student And I develop \"Skill\"'''\n",
        "print(\"\\nString with the use of Triple Quotes: \")\n",
        "print(String1)\n",
        "\n",
        "string2 = '''i'm to talk about, how much salary in job \"Data Analiyst\"'''\n",
        "print (string2)\n",
        "\n",
        "# Creating String with triple\n",
        "# Quotes allows multiple lines\n",
        "String1 = '''\n",
        "              MySkill\n",
        "              For\n",
        "              Life'''\n",
        "print(\"\\nCreating a multiline String: \")\n",
        "print(String1)\n",
        "\n",
        "string2 = '''\n",
        "              Aditya\n",
        "              Pramana\n",
        "              Putrs'''\n",
        "print(string2)"
      ],
      "metadata": {
        "colab": {
          "base_uri": "https://localhost:8080/"
        },
        "id": "kf5ShND5h4AJ",
        "outputId": "a8d1ed77-7d3d-499c-d458-e33687af65f5"
      },
      "execution_count": null,
      "outputs": [
        {
          "output_type": "stream",
          "name": "stdout",
          "text": [
            "String with the use of Single Quotes: \n",
            "Welcome to MySkill\n",
            "\n",
            "String with the use of Double Quotes: \n",
            "I'm Jon\n",
            "\n",
            "String with the use of Triple Quotes: \n",
            "I'm MySkill Student And I develop \"Skill\"\n",
            "i'm to talk about, how much salary in job \"Data Analiyst\"\n",
            "\n",
            "Creating a multiline String: \n",
            "\n",
            "              MySkill\n",
            "              For\n",
            "              Life\n",
            " \n",
            "              Aditya\n",
            "              Pramana\n",
            "              Putrs\n"
          ]
        }
      ]
    },
    {
      "cell_type": "markdown",
      "source": [
        "# Access Character in Python String"
      ],
      "metadata": {
        "id": "8MfAwXKBxv1c"
      }
    },
    {
      "cell_type": "code",
      "source": [
        "String1 = \"MySkill\"\n",
        "print(\"Initial String: \")\n",
        "print(String1)\n",
        "\n",
        "# Printing First character\n",
        "print(\"\\nFirst character of String is: \")\n",
        "print(String1[0])\n",
        "\n",
        "# Printing Last character\n",
        "print(\"\\nLast character of String is: \")\n",
        "print(String1[-1])"
      ],
      "metadata": {
        "id": "2G9uKP45p42K",
        "colab": {
          "base_uri": "https://localhost:8080/"
        },
        "outputId": "36459f0c-458c-4053-ff47-41f6df7270b6"
      },
      "execution_count": null,
      "outputs": [
        {
          "output_type": "stream",
          "name": "stdout",
          "text": [
            "Initial String: \n",
            "MySkill\n",
            "\n",
            "First character of String is: \n",
            "M\n",
            "\n",
            "Last character of String is: \n",
            "l\n"
          ]
        }
      ]
    },
    {
      "cell_type": "markdown",
      "source": [
        "## Reverse String"
      ],
      "metadata": {
        "id": "EvdjJfK9l9Nq"
      }
    },
    {
      "cell_type": "markdown",
      "source": [
        "Dengan Mengakses Karakter dari sebuah string, kita juga dapat membalikkannya. Kita dapat Membalikkan string dengan menulis [::-1] dan string akan dibalik."
      ],
      "metadata": {
        "id": "IicxJ-r4mL3S"
      }
    },
    {
      "cell_type": "code",
      "source": [
        "#Program to reverse a string\n",
        "msk = \"myskill\"\n",
        "print(msk[::-1])\n",
        "\n",
        "balik_nama = \"aytida\"\n",
        "print(balik_nama[::-1])\n"
      ],
      "metadata": {
        "colab": {
          "base_uri": "https://localhost:8080/"
        },
        "id": "kAYsNPBsl_NG",
        "outputId": "ffdfd4b7-a7c7-4072-c642-f7c4d3096ad4"
      },
      "execution_count": null,
      "outputs": [
        {
          "output_type": "stream",
          "name": "stdout",
          "text": [
            "lliksym\n",
            "aditya\n"
          ]
        }
      ]
    },
    {
      "cell_type": "code",
      "source": [
        "msk = \"myskill\"\n",
        "\n",
        "# Reverse the string using reversed and join function\n",
        "msk = \"\".join(reversed(msk))\n",
        "\n",
        "print(msk)\n",
        "\n",
        "balik_nama = \"aytida\"\n",
        "balik_nama = \"\".join(reversed(balik_nama))\n",
        "print(balik_nama)\n"
      ],
      "metadata": {
        "colab": {
          "base_uri": "https://localhost:8080/"
        },
        "id": "mVQAi9Dim3vs",
        "outputId": "769e8ecd-efb8-43c1-b7fb-5cac47a0d17b"
      },
      "execution_count": null,
      "outputs": [
        {
          "output_type": "stream",
          "name": "stdout",
          "text": [
            "lliksym\n",
            "aditya\n"
          ]
        }
      ]
    },
    {
      "cell_type": "markdown",
      "source": [
        "## String Slicing"
      ],
      "metadata": {
        "id": "g1JBN8eFn_gB"
      }
    },
    {
      "cell_type": "markdown",
      "source": [
        "Untuk mengakses berbagai karakter dalam String, metode slicing digunakan. Mengiris dalam sebuah String dilakukan dengan menggunakan operator Slicing (titik dua)."
      ],
      "metadata": {
        "id": "EFXQS3-woFd7"
      }
    },
    {
      "cell_type": "code",
      "source": [
        "# Creating a String\n",
        "String1 = \"ADITYA PRAMANA PUTRA\"\n",
        "print(\"Initial String: \")\n",
        "print(String1)\n",
        "\n",
        "# Printing 3rd to 12th character\n",
        "print(\"\\nSlicing characters from 3-12: \")\n",
        "print(String1[3:8])\n",
        "\n",
        "# Printing characters between\n",
        "# 3rd and 2nd last character\n",
        "print(\"\\nSlicing characters between \" +\n",
        "\t\"3rd and 2nd last character: \")\n",
        "print(String1[3:-1])\n",
        "\n",
        "print(String1[-1])\n",
        "print(String1[:])\n"
      ],
      "metadata": {
        "colab": {
          "base_uri": "https://localhost:8080/"
        },
        "id": "3YYxTTR5oBrg",
        "outputId": "3254bcb5-0800-4252-ba02-1846e742c146"
      },
      "execution_count": null,
      "outputs": [
        {
          "output_type": "stream",
          "name": "stdout",
          "text": [
            "Initial String: \n",
            "ADITYA PRAMANA PUTRA\n",
            "\n",
            "Slicing characters from 3-12: \n",
            "TYA P\n",
            "\n",
            "Slicing characters between 3rd and 2nd last character: \n",
            "TYA PRAMANA PUTR\n",
            "A\n",
            "ADITYA PRAMANA PUTRA\n"
          ]
        }
      ]
    },
    {
      "cell_type": "markdown",
      "source": [
        "## Delete and Update String"
      ],
      "metadata": {
        "id": "aBelpviLyl0B"
      }
    },
    {
      "cell_type": "markdown",
      "source": [
        "## Update Character"
      ],
      "metadata": {
        "id": "YjQFL16bs5NW"
      }
    },
    {
      "cell_type": "code",
      "source": [
        "# Python Program to Update\n",
        "# character of a String\n",
        "\n",
        "String1 = \"ADITIA PRAMANA PUTRA\"\n",
        "print(\"Initial String: \")\n",
        "print(String1)\n",
        "\n",
        "# Updating a character of the String\n",
        "## As python strings are immutable, they don't support item updation directly\n",
        "### there are following two ways\n",
        "#1\n",
        "list1 = list(String1)\n",
        "list1[4] = 'Y'\n",
        "String2 = ''.join(list1)\n",
        "print(\"\\nUpdating character at 2nd Index: \")\n",
        "print(String2)\n",
        "\n",
        "#2\n",
        "String3 = String1[0:4] + 'Y' + String1[5:]\n",
        "print(String3)\n"
      ],
      "metadata": {
        "colab": {
          "base_uri": "https://localhost:8080/"
        },
        "id": "2tN-nWRWriGl",
        "outputId": "0c7daa69-35e2-4306-a463-71f422c59e74"
      },
      "execution_count": null,
      "outputs": [
        {
          "output_type": "stream",
          "name": "stdout",
          "text": [
            "Initial String: \n",
            "ADITIA PRAMANA PUTRA\n",
            "\n",
            "Updating character at 2nd Index: \n",
            "ADITYA PRAMANA PUTRA\n",
            "ADITYA PRAMANA PUTRA\n"
          ]
        }
      ]
    },
    {
      "cell_type": "markdown",
      "source": [
        "## Update Entire String"
      ],
      "metadata": {
        "id": "QZIYZAA5twAT"
      }
    },
    {
      "cell_type": "code",
      "source": [
        "String1 = \"Hello, I'm Faras\"\n",
        "print(\"Initial String: \")\n",
        "print(String1)\n",
        "\n",
        "# Updating a String\n",
        "String1 = \"Welcome to MySkill\"\n",
        "print(\"\\nUpdated String: \")\n",
        "print(String1)\n"
      ],
      "metadata": {
        "colab": {
          "base_uri": "https://localhost:8080/"
        },
        "id": "dWI41gq-s_J-",
        "outputId": "59c68613-7ef2-4967-a246-05c0ec0c9efe"
      },
      "execution_count": null,
      "outputs": [
        {
          "output_type": "stream",
          "name": "stdout",
          "text": [
            "Initial String: \n",
            "Hello, I'm Faras\n",
            "\n",
            "Updated String: \n",
            "Welcome to MySkill\n"
          ]
        }
      ]
    },
    {
      "cell_type": "markdown",
      "source": [
        "## Delete Character"
      ],
      "metadata": {
        "id": "jyfGK7Dut-l2"
      }
    },
    {
      "cell_type": "code",
      "source": [
        "String1 = \"ADITYYA PRAMANA PUTRA\"\n",
        "print(\"Initial String: \")\n",
        "print(String1)\n",
        "\n",
        "# Deleting a character\n",
        "# of the String\n",
        "String2 = String1[0:5] + String1[6:]\n",
        "print(\"\\nDeleting character at 2nd Index: \")\n",
        "print(String2)"
      ],
      "metadata": {
        "colab": {
          "base_uri": "https://localhost:8080/"
        },
        "id": "6SrGj9iXt3Vt",
        "outputId": "1ab685d6-b73d-4012-8b56-6371792806a0"
      },
      "execution_count": null,
      "outputs": [
        {
          "output_type": "stream",
          "name": "stdout",
          "text": [
            "Initial String: \n",
            "ADITYYA PRAMANA PUTRA\n",
            "\n",
            "Deleting character at 2nd Index: \n",
            "ADITYA PRAMANA PUTRA\n"
          ]
        }
      ]
    },
    {
      "cell_type": "markdown",
      "source": [
        "## Deleting Entire String"
      ],
      "metadata": {
        "id": "BxsvUsRouiXB"
      }
    },
    {
      "cell_type": "code",
      "source": [
        "String1 = \"Welcome to MySkill\"\n",
        "print(\"Initial String: \")\n",
        "print(String1)\n",
        "\n",
        "\n",
        "# Deleting a String\n",
        "# with the use of del\n",
        "\n",
        "\n",
        "del String1\n",
        "print(\"\\nDeleting entire String: \")\n",
        "print(String1)\n"
      ],
      "metadata": {
        "colab": {
          "base_uri": "https://localhost:8080/",
          "height": 276
        },
        "id": "shSLxlX1uG6x",
        "outputId": "c110a0a7-7396-4aff-fef0-27e0aacc51f3"
      },
      "execution_count": null,
      "outputs": [
        {
          "output_type": "stream",
          "name": "stdout",
          "text": [
            "Initial String: \n",
            "Welcome to MySkill\n",
            "\n",
            "Deleting entire String: \n"
          ]
        },
        {
          "output_type": "error",
          "ename": "NameError",
          "evalue": "ignored",
          "traceback": [
            "\u001b[0;31m---------------------------------------------------------------------------\u001b[0m",
            "\u001b[0;31mNameError\u001b[0m                                 Traceback (most recent call last)",
            "\u001b[0;32m<ipython-input-24-4e8c7f8afb87>\u001b[0m in \u001b[0;36m<module>\u001b[0;34m\u001b[0m\n\u001b[1;32m      7\u001b[0m \u001b[0;32mdel\u001b[0m \u001b[0mString1\u001b[0m\u001b[0;34m\u001b[0m\u001b[0;34m\u001b[0m\u001b[0m\n\u001b[1;32m      8\u001b[0m \u001b[0mprint\u001b[0m\u001b[0;34m(\u001b[0m\u001b[0;34m\"\\nDeleting entire String: \"\u001b[0m\u001b[0;34m)\u001b[0m\u001b[0;34m\u001b[0m\u001b[0;34m\u001b[0m\u001b[0m\n\u001b[0;32m----> 9\u001b[0;31m \u001b[0mprint\u001b[0m\u001b[0;34m(\u001b[0m\u001b[0mString1\u001b[0m\u001b[0;34m)\u001b[0m\u001b[0;34m\u001b[0m\u001b[0;34m\u001b[0m\u001b[0m\n\u001b[0m",
            "\u001b[0;31mNameError\u001b[0m: name 'String1' is not defined"
          ]
        }
      ]
    },
    {
      "cell_type": "markdown",
      "source": [
        "# Escape Sequence in Python"
      ],
      "metadata": {
        "id": "74XYTwmxwJqF"
      }
    },
    {
      "cell_type": "code",
      "source": [
        "# Initial String\n",
        "String1 = '''I'm \"Smart\"'''\n",
        "print(\"Initial String with use of Triple Quotes: \")\n",
        "print(String1)\n",
        "\n",
        "# Escaping Single Quote\n",
        "String1 = 'I\\'m very \"tired\" with you'\n",
        "print(\"\\nEscaping Single Quote: \")\n",
        "print(String1)\n",
        "\n",
        "# Escaping Double Quotes\n",
        "String1 = \"I'm very \\\"Tired\\\" with you\"\n",
        "print(\"\\nEscaping Double Quotes: \")       #note : kasih tanda \\ dlu baru tanda yang ingin kita tetapkan\n",
        "print(String1)\n",
        "\n",
        "# Printing Paths with the\n",
        "# use of Escape Sequences\n",
        "String1 = \"C: Https:\\\\\\Aditya\\\\Channel\\\\.com\"\n",
        "print(\"\\nEscaping Backslashes: \")\n",
        "print(String1)\n",
        "\n",
        "# Printing Paths with the\n",
        "# use of Tab\n",
        "String1 = \"Note:\\t Jika ada sesuatu..\"\n",
        "print(\"\\nTab: \")\n",
        "print(String1)\n",
        "\n",
        "# Printing Paths with the\n",
        "# use of New Line\n",
        "String1 = \"Nama\\nNIM\"\n",
        "print(\"\\nNew Line: \")\n",
        "print(String1)\n"
      ],
      "metadata": {
        "colab": {
          "base_uri": "https://localhost:8080/"
        },
        "id": "V822VJycutDh",
        "outputId": "651b2c1b-429c-4c1a-dabd-f4c034efb969"
      },
      "execution_count": null,
      "outputs": [
        {
          "output_type": "stream",
          "name": "stdout",
          "text": [
            "Initial String with use of Triple Quotes: \n",
            "I'm \"Smart\"\n",
            "\n",
            "Escaping Single Quote: \n",
            "I'm very \"tired\" with you\n",
            "\n",
            "Escaping Double Quotes: \n",
            "I'm very \"Tired\" with you\n",
            "\n",
            "Escaping Backslashes: \n",
            "C: Https:\\\\Aditya\\Channel\\.com\n",
            "\n",
            "Tab: \n",
            "Note:\t Jika ada sesuatu..\n",
            "\n",
            "New Line: \n",
            "Nama\n",
            "NIM\n"
          ]
        }
      ]
    },
    {
      "cell_type": "markdown",
      "source": [
        "# Formatting in String"
      ],
      "metadata": {
        "id": "4D0qD1N2zCNV"
      }
    },
    {
      "cell_type": "code",
      "source": [
        "# Default order\n",
        "String1 = \"{} {} {}\".format('MySkill', 'For', 'Learning')\n",
        "print(\"Print String in default order: \")\n",
        "print(String1)\n",
        "\n",
        "nama_gw = \"{} {} {}\".format('Aditya','Pramana','Putra')\n",
        "print(nama_gw)\n",
        "\n",
        "# Positional Formatting\n",
        "String1 = \"{1} {0} {2}\".format('MySkill', 'For', 'Learning')\n",
        "print(\"\\nPrint String in Positional order: \")\n",
        "print(String1)\n",
        "\n",
        "nama_gw = \"{2} {1} {0}\".format('Aditya','Pramana','Putra')\n",
        "print(nama_gw)\n",
        "\n",
        "\n",
        "# Keyword Formatting\n",
        "String1 = \"{l} {f} {g}\".format(g='MySkill', f='For', l='Learning')\n",
        "print(\"\\nPrint String in order of Keywords: \")\n",
        "print(String1)\n",
        "\n",
        "nama_gw = \"{a} {b} {c}\".format(a='Aditya',b='Pramana',c='Putra')\n",
        "print(nama_gw)\n",
        "\n"
      ],
      "metadata": {
        "colab": {
          "base_uri": "https://localhost:8080/"
        },
        "id": "IN1hwHV9xcjx",
        "outputId": "f8fa7b6b-ead4-446e-d980-2986f663e3fb"
      },
      "execution_count": null,
      "outputs": [
        {
          "output_type": "stream",
          "name": "stdout",
          "text": [
            "Print String in default order: \n",
            "MySkill For Learning\n",
            "Aditya Pramana Putra\n",
            "\n",
            "Print String in Positional order: \n",
            "For MySkill Learning\n",
            "Putra Pramana Aditya\n",
            "\n",
            "Print String in order of Keywords: \n",
            "Learning For MySkill\n",
            "Aditya Pramana Putra\n"
          ]
        }
      ]
    },
    {
      "cell_type": "markdown",
      "source": [
        "Bilangan bulat seperti Biner, heksadesimal, dll., dan float dapat dibulatkan atau ditampilkan dalam bentuk eksponen dengan menggunakan penentu format."
      ],
      "metadata": {
        "id": "3On9m0cEzoU_"
      }
    },
    {
      "cell_type": "code",
      "source": [
        "# Formatting of Integers\n",
        "String1 = \"{0:b}\".format(16)\n",
        "print(\"\\nBinary representation of 16 is \")\n",
        "print(String1)\n",
        "\n",
        "# Formatting of Floats\n",
        "String1 = \"{0:e}\".format(165.6458)\n",
        "print(\"\\nExponent representation of 165.6458 is \")\n",
        "print(String1)\n",
        "\n",
        "# Rounding off Integers\n",
        "String1 = \"{0:.2f}\".format(23/400)\n",
        "print(\"\\none-sixth is : \")\n",
        "print(String1)\n"
      ],
      "metadata": {
        "colab": {
          "base_uri": "https://localhost:8080/"
        },
        "id": "5lRNqh6-zj8b",
        "outputId": "a074c89f-81d4-499e-a7ef-127f1eeb2e4f"
      },
      "execution_count": null,
      "outputs": [
        {
          "output_type": "stream",
          "name": "stdout",
          "text": [
            "\n",
            "Binary representation of 16 is \n",
            "10000\n",
            "\n",
            "Exponent representation of 165.6458 is \n",
            "1.656458e+02\n",
            "\n",
            "one-sixth is : \n",
            "0.06\n"
          ]
        }
      ]
    },
    {
      "cell_type": "markdown",
      "source": [
        "Sebuah string dapat dibiarkan () atau tengah (^) dibenarkan dengan penggunaan penentu format, dipisahkan oleh titik dua (:)."
      ],
      "metadata": {
        "id": "lJ_poP1Gz0Lp"
      }
    },
    {
      "cell_type": "code",
      "source": [
        "# String alignment\n",
        "String1 = \"|{:<1}|{:^1}|{:>1}|\".format('MySkill','for','Learning')\n",
        "print(\"\\nLeft, center and right alignment with Formatting: \")\n",
        "print(String1)\n",
        "\n",
        "# To demonstrate aligning of spaces\n",
        "String1 = \"\\n{0:^16} was founded in {1:<4}!\".format(\"MySkillForLearning\",\n",
        "\t\t\t\t\t\t\t\t\t\t\t\t\t2021)\n",
        "print(String1)\n"
      ],
      "metadata": {
        "colab": {
          "base_uri": "https://localhost:8080/"
        },
        "id": "qZe1EQxpzwCP",
        "outputId": "58439148-ca74-413a-c93b-df42e60dd399"
      },
      "execution_count": null,
      "outputs": [
        {
          "output_type": "stream",
          "name": "stdout",
          "text": [
            "\n",
            "Left, center and right alignment with Formatting: \n",
            "|MySkill|for|Learning|\n",
            "\n",
            "MySkillForLearning was founded in 2021!\n"
          ]
        }
      ]
    },
    {
      "cell_type": "markdown",
      "source": [
        "Pemformatan gaya lama dilakukan tanpa menggunakan metode format dengan menggunakan % operator"
      ],
      "metadata": {
        "id": "OwQcbfGW0V6l"
      }
    },
    {
      "cell_type": "code",
      "source": [
        "Integer1 = 12.3456789\n",
        "print(\"Formatting in 3.2f format: \")\n",
        "print('The value of Integer1 is %3.2f' % Integer1)\n",
        "print(\"\\nFormatting in 3.4f format: \")\n",
        "print('The value of Integer1 is %1.1fd' % Integer1)\n",
        "\n",
        "print('The value of Integer1 is %3.3f' % Integer1)\n"
      ],
      "metadata": {
        "colab": {
          "base_uri": "https://localhost:8080/"
        },
        "id": "tzfg-bVZ0EFL",
        "outputId": "e6ace4c6-2a59-4e56-f086-d7244d5eae84"
      },
      "execution_count": null,
      "outputs": [
        {
          "output_type": "stream",
          "name": "stdout",
          "text": [
            "Formatting in 3.2f format: \n",
            "The value of Integer1 is 12.35\n",
            "\n",
            "Formatting in 3.4f format: \n",
            "The value of Integer1 is 12.3\n",
            "The value of Integer1 is 12.346\n"
          ]
        }
      ]
    }
  ]
}